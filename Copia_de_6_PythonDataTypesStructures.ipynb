{
  "nbformat": 4,
  "nbformat_minor": 0,
  "metadata": {
    "colab": {
      "provenance": [],
      "include_colab_link": true
    },
    "kernelspec": {
      "name": "python3",
      "display_name": "Python 3"
    },
    "language_info": {
      "name": "python"
    }
  },
  "cells": [
    {
      "cell_type": "markdown",
      "metadata": {
        "id": "view-in-github",
        "colab_type": "text"
      },
      "source": [
        "<a href=\"https://colab.research.google.com/github/JuanGranados09/SE-ALES-Y-SISTEMAS/blob/main/Copia_de_6_PythonDataTypesStructures.ipynb\" target=\"_parent\"><img src=\"https://colab.research.google.com/assets/colab-badge.svg\" alt=\"Open In Colab\"/></a>"
      ]
    },
    {
      "cell_type": "markdown",
      "source": [
        "En Python, una lista es una estructura de datos que se utiliza para almacenar una colección ordenada de elementos. Se llama \"lista\" en inglés.\n",
        "\n",
        "Las listas son muy versátiles ya que pueden contener elementos de diferentes tipos de datos, como números, cadenas, valores booleanos, objetos y otras listas. También se pueden modificar, lo que significa que se pueden agregar, eliminar o modificar elementos.\n",
        "\n",
        "Para crear una lista en Python, se utilizan corchetes []."
      ],
      "metadata": {
        "id": "7m2NOuILJwMh"
      }
    },
    {
      "cell_type": "code",
      "execution_count": null,
      "metadata": {
        "colab": {
          "base_uri": "https://localhost:8080/"
        },
        "id": "loCCLXyUJGEf",
        "outputId": "8856d89a-978b-406e-c593-b2d6d7c638fc"
      },
      "outputs": [
        {
          "output_type": "execute_result",
          "data": {
            "text/plain": [
              "['Gerry', 1, 4.4, [0, 2, 3]]"
            ]
          },
          "metadata": {},
          "execution_count": 1
        }
      ],
      "source": [
        "lista1 = ['Gerry',1,4.4,[0,2,3]]\n",
        "lista1"
      ]
    },
    {
      "cell_type": "markdown",
      "source": [
        "I can show this element by element:"
      ],
      "metadata": {
        "id": "_hedGu3gKapT"
      }
    },
    {
      "cell_type": "code",
      "source": [
        "lista2 = lista1[1]\n",
        "lista2"
      ],
      "metadata": {
        "colab": {
          "base_uri": "https://localhost:8080/"
        },
        "id": "3EBTGE_fKed2",
        "outputId": "ba9e4a10-9771-41c1-a592-06915e357333"
      },
      "execution_count": null,
      "outputs": [
        {
          "output_type": "execute_result",
          "data": {
            "text/plain": [
              "1"
            ]
          },
          "metadata": {},
          "execution_count": 2
        }
      ]
    },
    {
      "cell_type": "code",
      "source": [
        "lista2 = lista1[-1]\n",
        "lista2"
      ],
      "metadata": {
        "colab": {
          "base_uri": "https://localhost:8080/"
        },
        "id": "GolGrN4lKlIz",
        "outputId": "5a670409-f0e6-4e1f-dafc-471c8a849975"
      },
      "execution_count": null,
      "outputs": [
        {
          "output_type": "execute_result",
          "data": {
            "text/plain": [
              "[0, 2, 3]"
            ]
          },
          "metadata": {},
          "execution_count": 3
        }
      ]
    },
    {
      "cell_type": "code",
      "source": [
        "lista2 = lista1[-1][2]\n",
        "lista2"
      ],
      "metadata": {
        "colab": {
          "base_uri": "https://localhost:8080/"
        },
        "id": "OVukUVegK8h5",
        "outputId": "5e5c6595-e323-4af9-a317-a945b9216659"
      },
      "execution_count": null,
      "outputs": [
        {
          "output_type": "execute_result",
          "data": {
            "text/plain": [
              "3"
            ]
          },
          "metadata": {},
          "execution_count": 4
        }
      ]
    },
    {
      "cell_type": "markdown",
      "source": [
        "I can delete a element of my list:"
      ],
      "metadata": {
        "id": "E-cwOa5ILNBX"
      }
    },
    {
      "cell_type": "code",
      "source": [
        "del lista1[1]\n",
        "lista1"
      ],
      "metadata": {
        "colab": {
          "base_uri": "https://localhost:8080/"
        },
        "id": "0UYTeLIQLKO5",
        "outputId": "1c1ffaf8-039c-49f4-85d0-b55dd7ac2ca6"
      },
      "execution_count": null,
      "outputs": [
        {
          "output_type": "execute_result",
          "data": {
            "text/plain": [
              "['Gerry', 4.4, [0, 2, 3]]"
            ]
          },
          "metadata": {},
          "execution_count": 5
        }
      ]
    },
    {
      "cell_type": "code",
      "source": [
        "#I can add a element in the list with command .append, for example:\n",
        "\n",
        "lista1.append(4.5)\n",
        "lista1"
      ],
      "metadata": {
        "colab": {
          "base_uri": "https://localhost:8080/"
        },
        "id": "AyNgXL2nLnYq",
        "outputId": "9e49ba4d-cb61-4fc9-bfe6-cafde4d72422"
      },
      "execution_count": null,
      "outputs": [
        {
          "output_type": "execute_result",
          "data": {
            "text/plain": [
              "['Gerry', 4.4, [0, 2, 3], 4.5]"
            ]
          },
          "metadata": {},
          "execution_count": 6
        }
      ]
    },
    {
      "cell_type": "markdown",
      "source": [
        "##**Tuplas**\n",
        "\n",
        "En Python, una tupla es otro tipo de datos integrado que se utiliza para almacenar una colección de elementos.\n",
        "\n",
        "Una tupla es similar a una lista en que puede almacenar objetos de diferentes tipos de datos, pero a diferencia de las listas, las tuplas son inmutables, lo que significa que no se pueden modificar una vez creadas.\n",
        "\n",
        "Las tuplas generalmente se crean encerrando una secuencia de objetos separados por comas entre paréntesis ().\n",
        "\n",
        "\n",
        "Por ejemplo, (1, 2, 'tres') es una tupla que contiene un número entero, otro número entero y una cadena. Las tuplas se utilizan a menudo para datos fijos que no es necesario cambiar, como una colección de constantes o un conjunto de coordenadas en un plano de coordenadas.\n",
        "\n",
        "\n",
        "\n"
      ],
      "metadata": {
        "id": "IDgY8mwnL6VM"
      }
    },
    {
      "cell_type": "code",
      "source": [
        "Tuple = (1,2,3,4,5)\n",
        "Tuple"
      ],
      "metadata": {
        "colab": {
          "base_uri": "https://localhost:8080/"
        },
        "id": "sOihyTYlMXTm",
        "outputId": "60a38327-b87c-48e6-efde-81cc111b3a15"
      },
      "execution_count": null,
      "outputs": [
        {
          "output_type": "execute_result",
          "data": {
            "text/plain": [
              "(1, 2, 3, 4, 5)"
            ]
          },
          "metadata": {},
          "execution_count": 7
        }
      ]
    },
    {
      "cell_type": "code",
      "source": [
        "Tuple[0]"
      ],
      "metadata": {
        "colab": {
          "base_uri": "https://localhost:8080/"
        },
        "id": "4i09enoPMhYb",
        "outputId": "4871ccc8-b057-4730-fc53-a98f2a709bf6"
      },
      "execution_count": null,
      "outputs": [
        {
          "output_type": "execute_result",
          "data": {
            "text/plain": [
              "1"
            ]
          },
          "metadata": {},
          "execution_count": 8
        }
      ]
    },
    {
      "cell_type": "code",
      "source": [
        "Tuple[0]=4 #you cannot modified it!"
      ],
      "metadata": {
        "colab": {
          "base_uri": "https://localhost:8080/",
          "height": 179
        },
        "id": "8-mDNlIfMjyD",
        "outputId": "98377c30-09ac-464b-8dac-ec6f46aff8d8"
      },
      "execution_count": null,
      "outputs": [
        {
          "output_type": "error",
          "ename": "TypeError",
          "evalue": "ignored",
          "traceback": [
            "\u001b[0;31m---------------------------------------------------------------------------\u001b[0m",
            "\u001b[0;31mTypeError\u001b[0m                                 Traceback (most recent call last)",
            "\u001b[0;32m<ipython-input-9-7e143736392a>\u001b[0m in \u001b[0;36m<cell line: 1>\u001b[0;34m()\u001b[0m\n\u001b[0;32m----> 1\u001b[0;31m \u001b[0mTuple\u001b[0m\u001b[0;34m[\u001b[0m\u001b[0;36m0\u001b[0m\u001b[0;34m]\u001b[0m\u001b[0;34m=\u001b[0m\u001b[0;36m4\u001b[0m\u001b[0;34m\u001b[0m\u001b[0;34m\u001b[0m\u001b[0m\n\u001b[0m",
            "\u001b[0;31mTypeError\u001b[0m: 'tuple' object does not support item assignment"
          ]
        }
      ]
    },
    {
      "cell_type": "markdown",
      "source": [
        "##**Conjuntos**\n",
        "\n",
        "En Python, un conjunto es un tipo de datos integrado que se utiliza para almacenar una colección desordenada de elementos únicos. Es similar a una lista o una tupla, pero a diferencia de esos tipos de datos, un conjunto no puede contener valores duplicados.\n",
        "\n",
        "Los conjuntos se crean usando llaves {} o usando la función set(). Por ejemplo, el siguiente código crea un conjunto de números enteros:"
      ],
      "metadata": {
        "id": "sAtET_vZMmbP"
      }
    },
    {
      "cell_type": "code",
      "source": [
        "my_set = {1, 2, 3, 4,5,5,3} #you cannot store the 5 twice in a set!\n",
        "my_set"
      ],
      "metadata": {
        "colab": {
          "base_uri": "https://localhost:8080/"
        },
        "id": "00IvCp_PND36",
        "outputId": "0905df23-7498-49a6-f3c4-fb7cea34c010"
      },
      "execution_count": null,
      "outputs": [
        {
          "output_type": "execute_result",
          "data": {
            "text/plain": [
              "{1, 2, 3, 4, 5}"
            ]
          },
          "metadata": {},
          "execution_count": 14
        }
      ]
    },
    {
      "cell_type": "markdown",
      "source": [
        "Los conjuntos también se pueden utilizar para realizar operaciones matemáticas de conjuntos como unión, intersección y diferencia.\n",
        "\n",
        "Por ejemplo, dados dos conjuntos set1 = {1, 2, 3} y set2 = {2, 3, 4}, la unión de los dos conjuntos se puede obtener usando el método | operador:"
      ],
      "metadata": {
        "id": "6FLcFWCsNI5A"
      }
    },
    {
      "cell_type": "code",
      "source": [
        "set1={1,2,3,4,8}\n",
        "set2={2,3,4}\n",
        "\n",
        "union_set = set1 | set2\n",
        "union_set\n"
      ],
      "metadata": {
        "colab": {
          "base_uri": "https://localhost:8080/"
        },
        "id": "O4ElDKysNJmT",
        "outputId": "c733f4fd-e467-44c4-fcad-09300dc3a2e7"
      },
      "execution_count": null,
      "outputs": [
        {
          "output_type": "execute_result",
          "data": {
            "text/plain": [
              "{1, 2, 3, 4, 8}"
            ]
          },
          "metadata": {},
          "execution_count": 15
        }
      ]
    },
    {
      "cell_type": "markdown",
      "source": [
        "Similarly, the intersection of the two sets can be obtained using the & operator:"
      ],
      "metadata": {
        "id": "4EICJO77NYUx"
      }
    },
    {
      "cell_type": "code",
      "source": [
        "intersection_set = set1 & set2\n",
        "intersection_set\n",
        "\n"
      ],
      "metadata": {
        "colab": {
          "base_uri": "https://localhost:8080/"
        },
        "id": "QxaUxi_8NX9c",
        "outputId": "992bc8a5-b1c7-4fc8-a4c8-7c08c7d6ab38"
      },
      "execution_count": null,
      "outputs": [
        {
          "output_type": "execute_result",
          "data": {
            "text/plain": [
              "{2, 3, 4}"
            ]
          },
          "metadata": {},
          "execution_count": 16
        }
      ]
    },
    {
      "cell_type": "markdown",
      "source": [
        "And the difference of the two sets can be obtained using the - operator:"
      ],
      "metadata": {
        "id": "L5JlhT_1OQk8"
      }
    },
    {
      "cell_type": "code",
      "source": [
        "difference_set = set1 - set2\n",
        "difference_set"
      ],
      "metadata": {
        "colab": {
          "base_uri": "https://localhost:8080/"
        },
        "id": "RVaE-Y1PORc8",
        "outputId": "3aeecefc-a0c4-440f-d69b-981e980929f9"
      },
      "execution_count": null,
      "outputs": [
        {
          "output_type": "execute_result",
          "data": {
            "text/plain": [
              "{1, 8}"
            ]
          },
          "metadata": {},
          "execution_count": 17
        }
      ]
    },
    {
      "cell_type": "markdown",
      "source": [
        "##**Diccionarios**\n",
        "\n",
        "En Python, un diccionario es una estructura de datos incorporada que se utiliza para almacenar una colección de pares clave-valor. A veces se le denomina matriz asociativa, tabla hash o mapa.\n",
        "\n",
        "Un diccionario se crea usando llaves {} y cada par clave-valor está separado por dos puntos (:). Por ejemplo, el siguiente código crea un diccionario de artículos y sus precios."
      ],
      "metadata": {
        "id": "3tUubrxMOoSB"
      }
    },
    {
      "cell_type": "code",
      "source": [
        "prices = {'apple':0.5,'banana': 0.25, 'orange': 0.75}\n",
        "prices\n",
        "\n",
        "prices['orange']=1\n",
        "\n",
        "prices"
      ],
      "metadata": {
        "colab": {
          "base_uri": "https://localhost:8080/"
        },
        "id": "ubj9Qiv9O4UW",
        "outputId": "1156d358-1a96-4639-a2ce-e77b9e97b81d"
      },
      "execution_count": null,
      "outputs": [
        {
          "output_type": "execute_result",
          "data": {
            "text/plain": [
              "{'apple': 0.5, 'banana': 0.25, 'orange': 1}"
            ]
          },
          "metadata": {},
          "execution_count": 24
        }
      ]
    },
    {
      "cell_type": "markdown",
      "source": [
        "En este ejemplo, \"manzana\", \"plátano\" y \"naranja\" son claves, y 0,5, 0,25 y 0,75 son sus valores correspondientes. Las claves de un diccionario deben ser únicas e inmutables, mientras que los valores pueden ser de cualquier tipo de datos y pueden duplicarse.\n",
        "\n",
        "Se puede acceder a los valores de un diccionario mediante sus claves correspondientes, como se muestra en el siguiente ejemplo:"
      ],
      "metadata": {
        "id": "Kpc4CDQdPBgJ"
      }
    },
    {
      "cell_type": "code",
      "source": [
        "apple_price = prices['banana']\n",
        "apple_price\n"
      ],
      "metadata": {
        "colab": {
          "base_uri": "https://localhost:8080/"
        },
        "id": "1i4_35S2PNAl",
        "outputId": "6bba97ba-dfb0-4a3a-c14c-c1a41bce415d"
      },
      "execution_count": null,
      "outputs": [
        {
          "output_type": "execute_result",
          "data": {
            "text/plain": [
              "0.25"
            ]
          },
          "metadata": {},
          "execution_count": 25
        }
      ]
    },
    {
      "cell_type": "markdown",
      "source": [
        "Los diccionarios son útiles cuando necesita almacenar y recuperar valores por una clave específica en lugar de por su posición en una secuencia. Se utilizan comúnmente para representar asignaciones entre elementos, como el nombre de una persona y su información de contacto, o una palabra y su definición."
      ],
      "metadata": {
        "id": "nHbjpbQqPReD"
      }
    },
    {
      "cell_type": "code",
      "source": [
        "prices['banana']"
      ],
      "metadata": {
        "colab": {
          "base_uri": "https://localhost:8080/"
        },
        "id": "e4nTbDtKQGSg",
        "outputId": "9a74f8bb-0e09-4ea3-892a-8d18bd610898"
      },
      "execution_count": null,
      "outputs": [
        {
          "output_type": "execute_result",
          "data": {
            "text/plain": [
              "0.25"
            ]
          },
          "metadata": {},
          "execution_count": 26
        }
      ]
    },
    {
      "cell_type": "markdown",
      "source": [
        "##**Ejemplo**\n",
        "\n",
        "Escriba una función que tome una lista de números como entrada y devuelva una lista que contenga solo los números únicos de la lista original. Por ejemplo, si la entrada es [1, 2, 3, 2, 4, 3, 5], la función debería devolver [1, 2, 3, 4, 5]."
      ],
      "metadata": {
        "id": "9CaTksnCTCBk"
      }
    },
    {
      "cell_type": "code",
      "source": [
        "def unique_numbers(nums):\n",
        "    return list(set(nums))#\n",
        "\n",
        "# Example usage\n",
        "nums = [1, 2, 3, 2, 4, 3, 5]\n",
        "print(unique_numbers(nums))"
      ],
      "metadata": {
        "colab": {
          "base_uri": "https://localhost:8080/"
        },
        "id": "TVhPTXtjTKMm",
        "outputId": "7352aca9-f5d0-437e-9ce5-f07c7b825ad5"
      },
      "execution_count": null,
      "outputs": [
        {
          "output_type": "stream",
          "name": "stdout",
          "text": [
            "[1, 2, 3, 4, 5]\n"
          ]
        }
      ]
    },
    {
      "cell_type": "markdown",
      "source": [
        "##**Ejemplo**\n",
        "\n",
        "Escriba una función que tome un diccionario como entrada y devuelva una lista de valores únicos en el diccionario. Por ejemplo, si el diccionario es {'a': 1, 'b': 2, 'c': 1, 'd': 3}, la función debería devolver [1, 2, 3]."
      ],
      "metadata": {
        "id": "HRXzajpMTiZj"
      }
    },
    {
      "cell_type": "code",
      "source": [
        "def ex2 (d):\n",
        "  lista = []\n",
        "  for i in d:\n",
        "    if d[i] not in lista:\n",
        "      lista.append(d[i])\n",
        "  return lista\n",
        "\n",
        "dicc ={'a': 1, 'b': 2, 'c': 1, 'd': 3}\n",
        "lis = ex2(dicc)\n",
        "lis"
      ],
      "metadata": {
        "colab": {
          "base_uri": "https://localhost:8080/"
        },
        "id": "s53Nhq7QV8CM",
        "outputId": "9c014b38-10ba-49a4-8172-a9f14a366608"
      },
      "execution_count": 17,
      "outputs": [
        {
          "output_type": "execute_result",
          "data": {
            "text/plain": [
              "[1, 2, 3]"
            ]
          },
          "metadata": {},
          "execution_count": 17
        }
      ]
    },
    {
      "cell_type": "markdown",
      "source": [
        "##**Ejercicio 1**\n",
        "\n",
        "Escriba una función que tome una lista de números como entrada y devuelva la suma de todos los números impares de la lista. Por ejemplo, si la entrada es [1, 2, 3, 4, 5, 6], la función debería devolver 9 (que es la suma de 1, 3 y 5)."
      ],
      "metadata": {
        "id": "3MDtAtv-UG5P"
      }
    },
    {
      "cell_type": "code",
      "source": [
        "def suma_impares(lista):\n",
        "    suma = 0\n",
        "    for i in lista:\n",
        "        if i % 2 != 0:\n",
        "            suma += i\n",
        "    return suma\n",
        "\n",
        "\n",
        "numeros = [1, 2, 3, 4, 5, 6, 13, 15, 19, 18, 17]\n",
        "resultado = suma_impares(numeros)\n",
        "print(resultado)"
      ],
      "metadata": {
        "colab": {
          "base_uri": "https://localhost:8080/"
        },
        "id": "9pFu7Y7-BXhr",
        "outputId": "6995fbb4-a7cc-4c96-982f-a99a95fa703f"
      },
      "execution_count": 21,
      "outputs": [
        {
          "output_type": "stream",
          "name": "stdout",
          "text": [
            "73\n"
          ]
        }
      ]
    },
    {
      "cell_type": "markdown",
      "source": [
        "##**Ejercicio 2**\n",
        "Escriba una función que tome una lista de palabras como entrada y devuelva un diccionario que cuente el número de veces que aparece cada palabra en la lista. Por ejemplo, si la entrada es ['manzana', 'plátano', 'manzana', 'cereza', 'cereza', 'cereza'], la función debería devolver {'manzana': 2, 'plátano': 1, 'cereza': 3}."
      ],
      "metadata": {
        "id": "kPhBJ5HUUlvN"
      }
    },
    {
      "cell_type": "code",
      "source": [
        "def contar_palabras(lista):\n",
        "    conteo = {}\n",
        "    for i in lista:\n",
        "        if i in conteo:\n",
        "            conteo[i] += 1\n",
        "        else:\n",
        "            conteo[i] = 1\n",
        "    return conteo\n",
        "\n",
        "# Ejemplo de uso:\n",
        "palabras = ['manzana', 'plátano', 'manzana', 'cereza', 'cereza', 'cereza']\n",
        "resultado = contar_palabras(palabras)\n",
        "print(resultado)"
      ],
      "metadata": {
        "colab": {
          "base_uri": "https://localhost:8080/"
        },
        "id": "-MWYxx_7Gi9-",
        "outputId": "cb7a6fb5-e06f-40a7-e42b-169e8739ad3a"
      },
      "execution_count": 22,
      "outputs": [
        {
          "output_type": "stream",
          "name": "stdout",
          "text": [
            "{'manzana': 2, 'plátano': 1, 'cereza': 3}\n"
          ]
        }
      ]
    },
    {
      "cell_type": "markdown",
      "source": [
        "Developed by:\n",
        "\n",
        "- Brian Patino Agudelo - bpatinoa@unal.edu.co\n",
        "\n",
        "- Andrés Marino Álvarez Meza - amalvarezme@unal.edu.co\n",
        "\n",
        "- César Germán Castellanos Domínguez - cgcastellanosd@unal.edu.co"
      ],
      "metadata": {
        "id": "9thTok_REswp"
      }
    },
    {
      "cell_type": "code",
      "source": [],
      "metadata": {
        "id": "cWV3WymdezoZ"
      },
      "execution_count": null,
      "outputs": []
    }
  ]
}