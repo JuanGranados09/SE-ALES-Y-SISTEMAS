{
  "cells": [
    {
      "cell_type": "markdown",
      "metadata": {
        "id": "view-in-github",
        "colab_type": "text"
      },
      "source": [
        "<a href=\"https://colab.research.google.com/github/JuanGranados09/SE-ALES-Y-SISTEMAS/blob/main/Implementacion.ipynb\" target=\"_parent\"><img src=\"https://colab.research.google.com/assets/colab-badge.svg\" alt=\"Open In Colab\"/></a>"
      ]
    },
    {
      "cell_type": "code",
      "source": [
        "!pip install pytube\n"
      ],
      "metadata": {
        "colab": {
          "base_uri": "https://localhost:8080/"
        },
        "id": "8iSriNeSF3K2",
        "outputId": "2b0fb22e-ffe5-4975-e08c-6f00a2a0d48d"
      },
      "execution_count": 2,
      "outputs": [
        {
          "output_type": "stream",
          "name": "stdout",
          "text": [
            "Collecting pytube\n",
            "  Downloading pytube-15.0.0-py3-none-any.whl.metadata (5.0 kB)\n",
            "Downloading pytube-15.0.0-py3-none-any.whl (57 kB)\n",
            "\u001b[?25l   \u001b[90m━━━━━━━━━━━━━━━━━━━━━━━━━━━━━━━━━━━━━━━━\u001b[0m \u001b[32m0.0/57.6 kB\u001b[0m \u001b[31m?\u001b[0m eta \u001b[36m-:--:--\u001b[0m\r\u001b[2K   \u001b[90m━━━━━━━━━━━━━━━━━━━━━━━━━━━━━━━━━━━━━━━━\u001b[0m \u001b[32m57.6/57.6 kB\u001b[0m \u001b[31m5.6 MB/s\u001b[0m eta \u001b[36m0:00:00\u001b[0m\n",
            "\u001b[?25hInstalling collected packages: pytube\n",
            "Successfully installed pytube-15.0.0\n"
          ]
        }
      ]
    },
    {
      "cell_type": "code",
      "source": [
        "# Importar las librerías necesarias\n",
        "from pytube import YouTube\n",
        "import librosa\n",
        "import numpy as np\n",
        "from scipy import signal\n",
        "import joblib  # Asumiendo que el modelo está guardado con joblib\n",
        "\n",
        "# Cargar el modelo entrenado (ajusta el nombre del archivo según corresponda)\n",
        "modelo = joblib.load('tu_modelo_entrenado.pkl')\n",
        "\n",
        "# Función para descargar el audio de YouTube\n",
        "def descargar_audio(link_youtube, salida='audio.wav'):\n",
        "    yt = YouTube(link_youtube)\n",
        "    audio_stream = yt.streams.filter(only_audio=True).first()\n",
        "    archivo_audio = audio_stream.download(filename=salida)\n",
        "    return archivo_audio\n",
        "\n",
        "# Función para preprocesar el audio (modulación, filtrado, etc.)\n",
        "def preprocesar_audio(archivo_audio):\n",
        "    # Cargar el audio\n",
        "    y, sr = librosa.load(archivo_audio, sr=None)\n",
        "\n",
        "    # Normalizar el audio\n",
        "    y_normalizado = librosa.util.normalize(y)\n",
        "\n",
        "    # Aplicar un filtro básico (ejemplo: paso bajo)\n",
        "    b, a = signal.butter(5, 1000/(0.5*sr), btype='low')  # Filtro paso bajo a 1kHz\n",
        "    y_filtrado = signal.filtfilt(b, a, y_normalizado)\n",
        "\n",
        "    # Extraer características del audio (mel espectrograma, MFCC, etc.)\n",
        "    mfccs = librosa.feature.mfcc(y=y_filtrado, sr=sr, n_mfcc=13)\n",
        "\n",
        "    # Aplanar las características para pasar al modelo\n",
        "    caracteristicas = np.mean(mfccs.T, axis=0)\n",
        "\n",
        "    return caracteristicas\n",
        "\n",
        "# Función para predecir el género\n",
        "def predecir_genero(caracteristicas):\n",
        "    genero_predicho = modelo.predict([caracteristicas])\n",
        "    if genero_predicho == 0:\n",
        "        return \"Reguetón\"\n",
        "    else:\n",
        "        return \"Metal\"\n",
        "\n",
        "# Función principal para realizar todo el flujo\n",
        "def detectar_genero(link_youtube):\n",
        "    # 1. Descargar el audio de YouTube\n",
        "    archivo_audio = descargar_audio(link_youtube)\n",
        "\n",
        "    # 2. Preprocesar el audio\n",
        "    caracteristicas = preprocesar_audio(archivo_audio)\n",
        "\n",
        "    # 3. Predecir el género\n",
        "    genero = predecir_genero(caracteristicas)\n",
        "\n",
        "    # 4. Mostrar el resultado\n",
        "    print(f\"El género de la canción es: {genero}\")\n",
        "\n",
        "# Ejemplo de uso\n",
        "link_youtube = input(\"Ingresa el link de YouTube de la canción: \")\n",
        "detectar_genero(link_youtube)\n"
      ],
      "metadata": {
        "colab": {
          "base_uri": "https://localhost:8080/",
          "height": 332
        },
        "id": "sVzFz-myFdoo",
        "outputId": "cda7e909-82f8-4cee-e918-81aceeb9d190"
      },
      "execution_count": 4,
      "outputs": [
        {
          "output_type": "error",
          "ename": "FileNotFoundError",
          "evalue": "[Errno 2] No such file or directory: '/ruta/a/tu_modelo/Detector_de_Genero.pkl'",
          "traceback": [
            "\u001b[0;31m---------------------------------------------------------------------------\u001b[0m",
            "\u001b[0;31mFileNotFoundError\u001b[0m                         Traceback (most recent call last)",
            "\u001b[0;32m<ipython-input-4-127590c2dd0d>\u001b[0m in \u001b[0;36m<cell line: 9>\u001b[0;34m()\u001b[0m\n\u001b[1;32m      7\u001b[0m \u001b[0;34m\u001b[0m\u001b[0m\n\u001b[1;32m      8\u001b[0m \u001b[0;31m# Cargar el modelo entrenado (ajusta el nombre del archivo según corresponda)\u001b[0m\u001b[0;34m\u001b[0m\u001b[0;34m\u001b[0m\u001b[0m\n\u001b[0;32m----> 9\u001b[0;31m \u001b[0mmodelo\u001b[0m \u001b[0;34m=\u001b[0m \u001b[0mjoblib\u001b[0m\u001b[0;34m.\u001b[0m\u001b[0mload\u001b[0m\u001b[0;34m(\u001b[0m\u001b[0;34m'/ruta/a/tu_modelo/Detector_de_Genero.pkl'\u001b[0m\u001b[0;34m)\u001b[0m\u001b[0;34m\u001b[0m\u001b[0;34m\u001b[0m\u001b[0m\n\u001b[0m\u001b[1;32m     10\u001b[0m \u001b[0;34m\u001b[0m\u001b[0m\n\u001b[1;32m     11\u001b[0m \u001b[0;34m\u001b[0m\u001b[0m\n",
            "\u001b[0;32m/usr/local/lib/python3.10/dist-packages/joblib/numpy_pickle.py\u001b[0m in \u001b[0;36mload\u001b[0;34m(filename, mmap_mode)\u001b[0m\n\u001b[1;32m    648\u001b[0m             \u001b[0mobj\u001b[0m \u001b[0;34m=\u001b[0m \u001b[0m_unpickle\u001b[0m\u001b[0;34m(\u001b[0m\u001b[0mfobj\u001b[0m\u001b[0;34m)\u001b[0m\u001b[0;34m\u001b[0m\u001b[0;34m\u001b[0m\u001b[0m\n\u001b[1;32m    649\u001b[0m     \u001b[0;32melse\u001b[0m\u001b[0;34m:\u001b[0m\u001b[0;34m\u001b[0m\u001b[0;34m\u001b[0m\u001b[0m\n\u001b[0;32m--> 650\u001b[0;31m         \u001b[0;32mwith\u001b[0m \u001b[0mopen\u001b[0m\u001b[0;34m(\u001b[0m\u001b[0mfilename\u001b[0m\u001b[0;34m,\u001b[0m \u001b[0;34m'rb'\u001b[0m\u001b[0;34m)\u001b[0m \u001b[0;32mas\u001b[0m \u001b[0mf\u001b[0m\u001b[0;34m:\u001b[0m\u001b[0;34m\u001b[0m\u001b[0;34m\u001b[0m\u001b[0m\n\u001b[0m\u001b[1;32m    651\u001b[0m             \u001b[0;32mwith\u001b[0m \u001b[0m_read_fileobject\u001b[0m\u001b[0;34m(\u001b[0m\u001b[0mf\u001b[0m\u001b[0;34m,\u001b[0m \u001b[0mfilename\u001b[0m\u001b[0;34m,\u001b[0m \u001b[0mmmap_mode\u001b[0m\u001b[0;34m)\u001b[0m \u001b[0;32mas\u001b[0m \u001b[0mfobj\u001b[0m\u001b[0;34m:\u001b[0m\u001b[0;34m\u001b[0m\u001b[0;34m\u001b[0m\u001b[0m\n\u001b[1;32m    652\u001b[0m                 \u001b[0;32mif\u001b[0m \u001b[0misinstance\u001b[0m\u001b[0;34m(\u001b[0m\u001b[0mfobj\u001b[0m\u001b[0;34m,\u001b[0m \u001b[0mstr\u001b[0m\u001b[0;34m)\u001b[0m\u001b[0;34m:\u001b[0m\u001b[0;34m\u001b[0m\u001b[0;34m\u001b[0m\u001b[0m\n",
            "\u001b[0;31mFileNotFoundError\u001b[0m: [Errno 2] No such file or directory: '/ruta/a/tu_modelo/Detector_de_Genero.pkl'"
          ]
        }
      ]
    }
  ],
  "metadata": {
    "colab": {
      "provenance": [],
      "include_colab_link": true
    },
    "kernelspec": {
      "display_name": "Python 3",
      "language": "python",
      "name": "python3"
    },
    "language_info": {
      "codemirror_mode": {
        "name": "ipython",
        "version": 3
      },
      "file_extension": ".py",
      "mimetype": "text/x-python",
      "name": "python",
      "nbconvert_exporter": "python",
      "pygments_lexer": "ipython3",
      "version": "3.7.1"
    }
  },
  "nbformat": 4,
  "nbformat_minor": 0
}