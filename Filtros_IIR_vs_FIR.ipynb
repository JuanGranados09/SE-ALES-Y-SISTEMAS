{
 "cells": [
  {
   "cell_type": "markdown",
   "id": "914efb87",
   "metadata": {},
   "source": [
    "# Diseño de Filtros y Comparación entre IIR y FIR\n",
    "\n",
    "En este cuaderno, diseñaremos y compararemos diferentes tipos de filtros de la familia IIR (Butterworth, Chebyshev I, Chebyshev II, Bessel, Elíptico) y un filtro FIR diseñado con la función `firwin` de SciPy. Además, crearemos un cuadro comparativo de las diferencias entre filtros IIR y FIR."
   ]
  },
  {
   "cell_type": "markdown",
   "id": "45a54abe",
   "metadata": {},
   "source": [
    "## Paso 1: Descargar 10 segundos de una canción\n",
    "Usa herramientas como `youtube-dl` o cualquier otra herramienta online para descargar una canción desde YouTube. Luego recorta los primeros 10 segundos usando una herramienta como `pydub`."
   ]
  },
  {
   "cell_type": "code",
   "execution_count": null,
   "id": "1d7453f5",
   "metadata": {},
   "outputs": [],
   "source": [
    "from pydub import AudioSegment\n",
    "\n",
    "# Cargar el archivo de audio descargado\n",
    "audio = AudioSegment.from_file(\"cancion.mp3\")\n",
    "\n",
    "# Recortar los primeros 10 segundos\n",
    "audio_10_segundos = audio[:10000]  # 10000 ms = 10 segundos\n",
    "\n",
    "# Guardar el fragmento de 10 segundos\n",
    "audio_10_segundos.export(\"cancion_10_segundos.wav\", format=\"wav\")"
   ]
  },
  {
   "cell_type": "markdown",
   "id": "54a7a847",
   "metadata": {},
   "source": [
    "## Paso 2: Diseño de Filtros IIR (Butterworth, Chebyshev I, Chebyshev II, Bessel, Elíptico)\n",
    "Implementamos filtros IIR con la biblioteca `scipy.signal` y comparamos su respuesta en frecuencia."
   ]
  },
  {
   "cell_type": "code",
   "execution_count": null,
   "id": "8feccbde",
   "metadata": {},
   "outputs": [],
   "source": [
    "import numpy as np\n",
    "import matplotlib.pyplot as plt\n",
    "from scipy.signal import butter, cheby1, cheby2, bessel, ellip, lfilter, freqz\n",
    "\n",
    "# Función para diseñar filtros IIR\n",
    "def iir_filter_design(filter_type, order, lowcut, highcut, fs, rp=None, rs=None):\n",
    "    nyquist = 0.5 * fs\n",
    "    low = lowcut / nyquist\n",
    "    high = highcut / nyquist\n",
    "    \n",
    "    if filter_type == 'butterworth':\n",
    "        b, a = butter(order, [low, high], btype='band')\n",
    "    elif filter_type == 'chebyshev1':\n",
    "        b, a = cheby1(order, rp, [low, high], btype='band')\n",
    "    elif filter_type == 'chebyshev2':\n",
    "        b, a = cheby2(order, rs, [low, high], btype='band')\n",
    "    elif filter_type == 'elliptic':\n",
    "        b, a = ellip(order, rp, rs, [low, high], btype='band')\n",
    "    elif filter_type == 'bessel':\n",
    "        b, a = bessel(order, [low, high], btype='band', analog=False)\n",
    "    \n",
    "    return b, a"
   ]
  },
  {
   "cell_type": "markdown",
   "id": "ea7148cb",
   "metadata": {},
   "source": [
    "### Parámetros para el filtro\n",
    "- `order`: Orden del filtro.\n",
    "- `lowcut`: Frecuencia de corte baja.\n",
    "- `highcut`: Frecuencia de corte alta.\n",
    "- `fs`: Frecuencia de muestreo.\n",
    "- `rp`: Para Chebyshev I y Elíptico, define el máximo ripple en la banda de paso (en dB).\n",
    "- `rs`: Para Chebyshev II y Elíptico, define la atenuación mínima en la banda de rechazo (en dB)."
   ]
  },
  {
   "cell_type": "code",
   "execution_count": null,
   "id": "dfe0bda4",
   "metadata": {},
   "outputs": [],
   "source": [
    "# Función para graficar respuestas en frecuencia\n",
    "def plot_filter_responses(filters, fs):\n",
    "    plt.figure(figsize=(10, 8))\n",
    "    \n",
    "    for f_type, (b, a) in filters.items():\n",
    "        w, h = freqz(b, a, worN=2000)\n",
    "        plt.plot((fs * 0.5 / np.pi) * w, np.abs(h), label=f_type)\n",
    "\n",
    "    plt.title('Respuesta de frecuencia de los filtros')\n",
    "    plt.xlabel('Frecuencia [Hz]')\n",
    "    plt.ylabel('Ganancia')\n",
    "    plt.grid()\n",
    "    plt.legend()\n",
    "    plt.show()\n",
    "\n",
    "# Frecuencia de muestreo y frecuencias de corte\n",
    "fs = 5000\n",
    "lowcut = 500\n",
    "highcut = 1500\n",
    "\n",
    "# Orden del filtro\n",
    "order = 4\n",
    "\n",
    "# Diseño de los filtros\n",
    "filters = {\n",
    "    'butterworth': iir_filter_design('butterworth', order, lowcut, highcut, fs),\n",
    "    'chebyshev1': iir_filter_design('chebyshev1', order, lowcut, highcut, fs, rp=1),\n",
    "    'chebyshev2': iir_filter_design('chebyshev2', order, lowcut, highcut, fs, rs=40),\n",
    "    'elliptic': iir_filter_design('elliptic', order, lowcut, highcut, fs, rp=1, rs=40),\n",
    "    'bessel': iir_filter_design('bessel', order, lowcut, highcut, fs)\n",
    "}\n",
    "\n",
    "# Graficar la respuesta en frecuencia de cada filtro\n",
    "plot_filter_responses(filters, fs)"
   ]
  },
  {
   "cell_type": "markdown",
   "id": "55169561",
   "metadata": {},
   "source": [
    "## Paso 3: Método de diseño de filtros FIR por ventaneo (firwin)\n",
    "Implementamos un filtro FIR pasabanda utilizando el método de ventaneo."
   ]
  },
  {
   "cell_type": "code",
   "execution_count": null,
   "id": "3434cb31",
   "metadata": {},
   "outputs": [],
   "source": [
    "from scipy.signal import firwin\n",
    "\n",
    "# Función para diseñar un filtro FIR usando firwin\n",
    "def fir_filter_design(numtaps, lowcut, highcut, fs, window='hamming'):\n",
    "    nyquist = 0.5 * fs\n",
    "    taps = firwin(numtaps, [lowcut / nyquist, highcut / nyquist], pass_zero=False, window=window)\n",
    "    return taps\n",
    "\n",
    "# Diseñar un filtro FIR pasabanda\n",
    "numtaps = 101  # Número de coeficientes del filtro\n",
    "taps = fir_filter_design(numtaps, lowcut, highcut, fs)\n",
    "\n",
    "# Graficar la respuesta en frecuencia\n",
    "w, h = freqz(taps, worN=2000)\n",
    "plt.plot((fs * 0.5 / np.pi) * w, np.abs(h), label='FIR (Hamming)')\n",
    "plt.title('Respuesta de frecuencia del filtro FIR')\n",
    "plt.xlabel('Frecuencia [Hz]')\n",
    "plt.ylabel('Ganancia')\n",
    "plt.grid()\n",
    "plt.legend()\n",
    "plt.show()"
   ]
  },
  {
   "cell_type": "markdown",
   "id": "f343d890",
   "metadata": {},
   "source": [
    "## Paso 4: Cuadro comparativo de filtros IIR y FIR\n",
    "| **Característica**           | **Filtros IIR**                           | **Filtros FIR**                            |\n",
    "|------------------------------|-------------------------------------------|--------------------------------------------|\n",
    "| **Estabilidad**               | Pueden ser inestables debido a polos en el plano \\( z \\). | Siempre estables. |\n",
    "| **Fase**                     | Fase no lineal, lo que puede distorsionar la señal. | Fase lineal si se diseña adecuadamente. |\n",
    "| **Complejidad computacional** | Menor orden que FIR para especificaciones similares. | Requieren un orden mayor para lograr la misma atenuación en banda de rechazo. |\n",
    "| **Respuesta impulsiva**       | Infinita (responde indefinidamente).      | Finita (se apaga después de cierto tiempo). |\n",
    "| **Aplicaciones**              | Procesamiento en tiempo real donde se requiere una baja latencia. | Aplicaciones donde la distorsión de fase no es aceptable, como audio e imagen. |"
   ]
  }
 ],
 "metadata": {},
 "nbformat": 4,
 "nbformat_minor": 5
}
