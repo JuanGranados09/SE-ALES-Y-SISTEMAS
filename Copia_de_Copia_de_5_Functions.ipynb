{
  "nbformat": 4,
  "nbformat_minor": 0,
  "metadata": {
    "colab": {
      "provenance": [],
      "include_colab_link": true
    },
    "kernelspec": {
      "name": "python3",
      "display_name": "Python 3"
    },
    "language_info": {
      "name": "python"
    }
  },
  "cells": [
    {
      "cell_type": "markdown",
      "metadata": {
        "id": "view-in-github",
        "colab_type": "text"
      },
      "source": [
        "<a href=\"https://colab.research.google.com/github/JuanGranados09/SE-ALES-Y-SISTEMAS/blob/main/Copia_de_Copia_de_5_Functions.ipynb\" target=\"_parent\"><img src=\"https://colab.research.google.com/assets/colab-badge.svg\" alt=\"Open In Colab\"/></a>"
      ]
    },
    {
      "cell_type": "markdown",
      "source": [
        "Las funciones son bloques de código que se pueden reutilizar en diferentes partes de un programa. Son útiles porque nos permiten evitar la repetición de código y hacer que nuestro código sea más modular y fácil de leer.\n",
        "\n",
        "En Python, las funciones se definen utilizando la palabra clave def, seguida del nombre de la función y una lista de argumentos entre paréntesis. El cuerpo de la función va después, con sangría.\n",
        "\n",
        "Por ejemplo, aquí hay una función simple que toma dos argumentos y devuelve su suma:"
      ],
      "metadata": {
        "id": "S7bKHe0V-ktK"
      }
    },
    {
      "cell_type": "code",
      "execution_count": null,
      "metadata": {
        "id": "9bwPSLJH91gF"
      },
      "outputs": [],
      "source": [
        "def add(a, b):\n",
        "    return a + b\n"
      ]
    },
    {
      "cell_type": "markdown",
      "source": [
        "We can call this function as follows:\n",
        "\n"
      ],
      "metadata": {
        "id": "rcjU06-j-ouc"
      }
    },
    {
      "cell_type": "code",
      "source": [
        "result = add(3, 4)\n",
        "print(result) # output: 7\n"
      ],
      "metadata": {
        "id": "0HtHH2uz-uyg",
        "colab": {
          "base_uri": "https://localhost:8080/"
        },
        "outputId": "2ecf5cd7-b818-4090-9baf-4f5fa163952d"
      },
      "execution_count": null,
      "outputs": [
        {
          "output_type": "stream",
          "name": "stdout",
          "text": [
            "7\n"
          ]
        }
      ]
    },
    {
      "cell_type": "markdown",
      "source": [
        "In this example, we passed the arguments 3 and 4 to the add function, which returned 7. We then stored the result in a variable called result and printed it to the screen."
      ],
      "metadata": {
        "id": "aOgQWQwL-wHt"
      }
    },
    {
      "cell_type": "markdown",
      "source": [
        "##Function Arguments"
      ],
      "metadata": {
        "id": "Wb92IaCNAJ0Y"
      }
    },
    {
      "cell_type": "markdown",
      "source": [
        "En Python, existen diferentes tipos de argumentos que podemos pasar a una función. Los argumentos se definen en la lista de parámetros de la función, separados por comas."
      ],
      "metadata": {
        "id": "FwFmcZ7rAQG3"
      }
    },
    {
      "cell_type": "markdown",
      "source": [
        "###Positional Arguments"
      ],
      "metadata": {
        "id": "sJj8Q_hCAUot"
      }
    },
    {
      "cell_type": "markdown",
      "source": [
        "Los argumentos posicionales son aquellos que se pasan a una función en el orden en que aparecen en la lista de parámetros. Por ejemplo, en la función add(a, b) anterior, a es el primer argumento posicional y b es el segundo."
      ],
      "metadata": {
        "id": "5bJ15-CpAct-"
      }
    },
    {
      "cell_type": "markdown",
      "source": [
        "###Default Value Arguments"
      ],
      "metadata": {
        "id": "ha4yexfwAk-6"
      }
    },
    {
      "cell_type": "markdown",
      "source": [
        "Los argumentos de valor predeterminado son aquellos que tienen un valor predeterminado asignado en la lista de parámetros. Si no se proporciona el argumento al llamar a la función, se utiliza su valor predeterminado. Por ejemplo, aquí hay una función que toma un argumento posicional y un argumento de valor predeterminado:"
      ],
      "metadata": {
        "id": "fZ-SOVgYAovN"
      }
    },
    {
      "cell_type": "code",
      "source": [
        "def greet(name, greeting=\"Hello\"):\n",
        "    print(greeting + \", \" + name + \"!\")\n",
        "\n",
        "# Example usage\n",
        "greet(\"Juan\")  # Output: Hello, Juan!\n",
        "\n",
        "name = input(\"Enter your name: \")\n",
        "greet(name)  # Output: Hello, [name entered]!"
      ],
      "metadata": {
        "id": "5NazaGuK_eSO",
        "colab": {
          "base_uri": "https://localhost:8080/"
        },
        "outputId": "8276b9fc-e0ca-4804-c1b5-69917eee9f13"
      },
      "execution_count": null,
      "outputs": [
        {
          "output_type": "stream",
          "name": "stdout",
          "text": [
            "Hello, Juan!\n",
            "Enter your name: Brian\n",
            "Hello, Brian!\n"
          ]
        }
      ]
    },
    {
      "cell_type": "markdown",
      "source": [
        "If we call this function with greet(\"John\"), the output will be Hello, John!. If we call the function with greet(\"Peter\", \"Good morning\"), the output will be Good morning, Peter!."
      ],
      "metadata": {
        "id": "0JKqNTPIAxnq"
      }
    },
    {
      "cell_type": "markdown",
      "source": [
        "### Variable-Length Arguments"
      ],
      "metadata": {
        "id": "mJYjb7QLA13X"
      }
    },
    {
      "cell_type": "markdown",
      "source": [
        "Sometimes we want to pass a variable amount of arguments to a function. In Python, we can do this using variable-length arguments."
      ],
      "metadata": {
        "id": "k28bUldiA7NL"
      }
    },
    {
      "cell_type": "markdown",
      "source": [
        "####Argumentos posicionales variables\n",
        "Los argumentos posicionales variables se definen con un asterisco (*) antes del nombre del argumento en la lista de parámetros. Esto indica que la función acepta un número variable de argumentos posicionales. Por ejemplo:"
      ],
      "metadata": {
        "id": "5waAk76PA_nw"
      }
    },
    {
      "cell_type": "code",
      "source": [
        "def print_names(*names):\n",
        "    for name in names:\n",
        "        print(name)\n"
      ],
      "metadata": {
        "id": "iANwE0kGBEmd"
      },
      "execution_count": null,
      "outputs": []
    },
    {
      "cell_type": "markdown",
      "source": [
        "This function takes a variable number of positional arguments and prints them to the screen. We can call the function with any number of arguments:"
      ],
      "metadata": {
        "id": "GihiUzY2BHJW"
      }
    },
    {
      "cell_type": "code",
      "source": [
        "print_names(\"John\", \"Peter\", \"Mary\") # output: John Peter Mary\n",
        "print_names(\"Charles\") # output: Charles\n",
        "print_names() # output:\n"
      ],
      "metadata": {
        "id": "Di0ZxLoeBLtQ",
        "colab": {
          "base_uri": "https://localhost:8080/"
        },
        "outputId": "9fc0a030-402a-48b6-8eb3-9f2635856aff"
      },
      "execution_count": null,
      "outputs": [
        {
          "output_type": "stream",
          "name": "stdout",
          "text": [
            "John\n",
            "Peter\n",
            "Mary\n",
            "Charles\n"
          ]
        }
      ]
    },
    {
      "cell_type": "markdown",
      "source": [
        "####Argumentos de palabras clave variables\n",
        "Los argumentos de palabras clave variables se definen con dos asteriscos (**) antes del nombre del argumento en la lista de parámetros. Esto indica que la función acepta un número variable de argumentos de palabras clave. Por ejemplo:"
      ],
      "metadata": {
        "id": "PfP5NFypBMbw"
      }
    },
    {
      "cell_type": "code",
      "source": [
        "def print_kwargs(**kwargs):\n",
        "    for key, value in kwargs.items():\n",
        "        print(key + \": \" + value)\n"
      ],
      "metadata": {
        "id": "MFtyekZaBPtf"
      },
      "execution_count": null,
      "outputs": []
    },
    {
      "cell_type": "markdown",
      "source": [
        "This function takes a variable number of keyword arguments and prints their keys and values to the screen. We can call the function with any number of keyword arguments:"
      ],
      "metadata": {
        "id": "mAAEOKFrBXUe"
      }
    },
    {
      "cell_type": "code",
      "source": [
        "print_kwargs(name=\"John\", age=\"25\", city=\"New York\")\n",
        "# output:\n",
        "# name: John\n",
        "# age: 25\n",
        "# city: New York\n"
      ],
      "metadata": {
        "id": "cJ2Kvo86BdAa",
        "colab": {
          "base_uri": "https://localhost:8080/"
        },
        "outputId": "b0a80e6c-de92-4a01-b1b0-6d80dcb67102"
      },
      "execution_count": null,
      "outputs": [
        {
          "output_type": "stream",
          "name": "stdout",
          "text": [
            "name: John\n",
            "age: 25\n",
            "city: New York\n"
          ]
        }
      ]
    },
    {
      "cell_type": "markdown",
      "source": [
        "##Conclusion"
      ],
      "metadata": {
        "id": "JoPc9PakBZBx"
      }
    },
    {
      "cell_type": "markdown",
      "source": [
        "Functions are an important concept in programming, and Python makes it easy to define and use them."
      ],
      "metadata": {
        "id": "nwKUfCxSBies"
      }
    },
    {
      "cell_type": "markdown",
      "source": [
        "## Exercise 1\n",
        "\n"
      ],
      "metadata": {
        "id": "bZmYScf-CCRg"
      }
    },
    {
      "cell_type": "markdown",
      "source": [
        "El área de un triángulo se puede calcular cuando se conoce la longitud de sus lados. Teniendo en cuenta que s1, s2 y s3 ​​son las longitudes de los lados del triángulo, se puede calcular el subperímetro s = (s1+s2+s3)/2, y con este valor se puede calcular el área del triángulo. de lo siguiente: área = √( s * (s-s1) * (s-s2) * (s-s3) ).\n",
        "\n",
        "Crea una función que tome la longitud de los lados del triángulo y devuelva el área del triángulo, redondeada a un decimal.\n",
        "\n",
        "El módulo de matemáticas puede ayudarte a calcular la raíz cuadrada.\n",
        "\n",
        "\n"
      ],
      "metadata": {
        "id": "S6OE1xSBCFfb"
      }
    },
    {
      "cell_type": "code",
      "source": [
        "import math\n",
        "\n",
        "def areatria (a,b,c):\n",
        "  s = a + b + c\n",
        "  area = math.sqrt((s*(s-a)*(s-b)*(s-c)))\n",
        "  area = round(area,1)\n",
        "\n",
        "  return area\n",
        "\n",
        "A = areatria(3,4,5)"
      ],
      "metadata": {
        "id": "qa6ZoUzOe1Ev"
      },
      "execution_count": null,
      "outputs": []
    },
    {
      "cell_type": "markdown",
      "source": [
        "## Exercise 2"
      ],
      "metadata": {
        "id": "vJXNrk1s3WNa"
      }
    },
    {
      "cell_type": "markdown",
      "source": [
        "Cree una función que pueda calcular el índice de masa corporal (IMC) de una persona.\n",
        "\n",
        "La fórmula para calcular el IMC es la siguiente:\n",
        "\n",
        "IMC = peso/(altura^2)\n",
        "\n",
        "En esta fórmula el peso está en kilogramos y la altura en metros. Tenga en cuenta que el peso y la altura recibidos por su función estarán en libras y pulgadas respectivamente, ya que su función se utilizará en los Estados Unidos.\n",
        "\n",
        "Recuerda eso:\n",
        "\n",
        "1 libra corresponde a 0,45 kg.\n",
        "\n",
        "1 pulgada corresponde a 0,025 metros.\n",
        "\n",
        "El valor devuelto debe redondearse a dos decimales.\n",
        "\n",
        "\n"
      ],
      "metadata": {
        "id": "D_d0hp_w3Z0x"
      }
    },
    {
      "cell_type": "code",
      "source": [
        "def imc (p,a):\n",
        "  p = p*0.45\n",
        "\n",
        "  IMC = p/(a * (1/40)*(a * (1/40)))\n",
        "  IMC = round(IMC,2)\n",
        "  return IMC\n",
        "\n",
        "A = imc(200,70)"
      ],
      "metadata": {
        "id": "eoUyYH84hA-Z"
      },
      "execution_count": null,
      "outputs": []
    },
    {
      "cell_type": "code",
      "source": [],
      "metadata": {
        "id": "bJYyWjRc3Bdc"
      },
      "execution_count": null,
      "outputs": []
    }
  ]
}