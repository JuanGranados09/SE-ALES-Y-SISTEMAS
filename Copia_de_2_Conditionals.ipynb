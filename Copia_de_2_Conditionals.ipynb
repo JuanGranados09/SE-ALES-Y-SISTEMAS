{
  "nbformat": 4,
  "nbformat_minor": 0,
  "metadata": {
    "colab": {
      "provenance": [],
      "include_colab_link": true
    },
    "kernelspec": {
      "name": "python3",
      "display_name": "Python 3"
    },
    "language_info": {
      "name": "python"
    }
  },
  "cells": [
    {
      "cell_type": "markdown",
      "metadata": {
        "id": "view-in-github",
        "colab_type": "text"
      },
      "source": [
        "<a href=\"https://colab.research.google.com/github/JuanGranados09/SE-ALES-Y-SISTEMAS/blob/main/Copia_de_2_Conditionals.ipynb\" target=\"_parent\"><img src=\"https://colab.research.google.com/assets/colab-badge.svg\" alt=\"Open In Colab\"/></a>"
      ]
    },
    {
      "cell_type": "markdown",
      "source": [
        "# Conditionals"
      ],
      "metadata": {
        "id": "VTg9sEC1C3SO"
      }
    },
    {
      "cell_type": "markdown",
      "source": [
        "Para realizar condicionales en Python, debemos considerar que la sangría define cada sección de código a ejecutar.\n",
        "\n",
        "Aquí no utilizamos llaves ni ningún separador; en cambio, lo controlamos con sangría usando caracteres \"Tab\".\n",
        "\n",
        "Además, tanto las declaraciones \"if\" como \"else\" deben terminar con dos puntos (si no se incluyen, se producirá un error de sintaxis)."
      ],
      "metadata": {
        "id": "Rk_VXygMC7mm"
      }
    },
    {
      "cell_type": "code",
      "execution_count": 1,
      "metadata": {
        "colab": {
          "base_uri": "https://localhost:8080/"
        },
        "id": "W1DdfxlTCEjM",
        "outputId": "4c1de1c6-4a29-4f9d-8a41-696877487d11"
      },
      "outputs": [
        {
          "output_type": "stream",
          "name": "stdout",
          "text": [
            "The condition is true.\n",
            "\n"
          ]
        }
      ],
      "source": [
        "a = True\n",
        "\n",
        "if a:\n",
        "  print(\"The condition is true.\\n\")#tab is included here\n",
        "else:\n",
        "  print(\"The condition is false.\\n\")#tab is included here"
      ]
    },
    {
      "cell_type": "code",
      "source": [
        "\n",
        "a = False\n",
        "\n",
        "if a:\n",
        "  print(\"The condition is true.\\n\")\n",
        "else:\n",
        "  print(\"The condition is false.\\n\")"
      ],
      "metadata": {
        "colab": {
          "base_uri": "https://localhost:8080/"
        },
        "id": "MQGsGj6xDu4n",
        "outputId": "54e96bb5-1b45-488b-89e3-dea165cbb90c"
      },
      "execution_count": 2,
      "outputs": [
        {
          "output_type": "stream",
          "name": "stdout",
          "text": [
            "The condition is false.\n",
            "\n"
          ]
        }
      ]
    },
    {
      "cell_type": "markdown",
      "source": [
        "Recalling that boolean variables have their equivalent in integers, we could also perform the conditional in the following way:"
      ],
      "metadata": {
        "id": "frC0vy0CDxxC"
      }
    },
    {
      "cell_type": "code",
      "source": [
        "a = 5\n",
        "\n",
        "if a: #a as an int variable\n",
        "  print(\"The condition is true.\\n\")\n",
        "else:\n",
        "  print(\"The condition is false.\\n\")"
      ],
      "metadata": {
        "colab": {
          "base_uri": "https://localhost:8080/"
        },
        "id": "xyRIhIhvD6Pa",
        "outputId": "94aa0212-5e82-40cc-d803-883fcf6142e2"
      },
      "execution_count": 3,
      "outputs": [
        {
          "output_type": "stream",
          "name": "stdout",
          "text": [
            "The condition is true.\n",
            "\n"
          ]
        }
      ]
    },
    {
      "cell_type": "code",
      "source": [
        "a = 0\n",
        "\n",
        "if a:\n",
        "  print(\"The condition is true.\\n\")\n",
        "else:\n",
        "  print(\"The condition is false.\\n\")"
      ],
      "metadata": {
        "colab": {
          "base_uri": "https://localhost:8080/"
        },
        "id": "DbzDH0qwD8QQ",
        "outputId": "15474699-6970-476b-c2fd-11c8934c836e"
      },
      "execution_count": 4,
      "outputs": [
        {
          "output_type": "stream",
          "name": "stdout",
          "text": [
            "The condition is false.\n",
            "\n"
          ]
        }
      ]
    },
    {
      "cell_type": "markdown",
      "source": [
        "\n",
        "Many times it is necessary to use nested if statements. For this, the \"elif\" statement is very useful."
      ],
      "metadata": {
        "id": "fNWEc7KmEDj4"
      }
    },
    {
      "cell_type": "code",
      "source": [
        "\n",
        "a = True\n",
        "b = True\n",
        "\n",
        "if a:\n",
        "  print(\"Condition 1 is true.\\n\")\n",
        "elif b:\n",
        "  print(\"Condition 2 is true.\\n\")\n"
      ],
      "metadata": {
        "colab": {
          "base_uri": "https://localhost:8080/"
        },
        "id": "OP3rdF2nD_eX",
        "outputId": "a3b32b11-abe3-4fc4-93a7-e6b2224107de"
      },
      "execution_count": 5,
      "outputs": [
        {
          "output_type": "stream",
          "name": "stdout",
          "text": [
            "Condition 1 is true.\n",
            "\n"
          ]
        }
      ]
    },
    {
      "cell_type": "code",
      "source": [
        "a = False\n",
        "b = True\n",
        "\n",
        "if a:\n",
        "  print(\"Condition 1 is true.\\n\")\n",
        "elif b:\n",
        "  print(\"Condition 2 is true.\\n\")\n"
      ],
      "metadata": {
        "colab": {
          "base_uri": "https://localhost:8080/"
        },
        "id": "MAPP8N-GEuiO",
        "outputId": "226a6ced-7c5f-4308-8434-5f8074e8dc49"
      },
      "execution_count": 6,
      "outputs": [
        {
          "output_type": "stream",
          "name": "stdout",
          "text": [
            "Condition 2 is true.\n",
            "\n"
          ]
        }
      ]
    },
    {
      "cell_type": "markdown",
      "source": [
        "En este caso, primero verificamos si la condición a es verdadera, pero si no, no imprimimos directamente el segundo mensaje. En cambio, ahora verificamos si la condición b es verdadera o no (la segunda condición solo se evalúa si la primera no fue verdadera).\n",
        "\n",
        "Podemos agregar una declaración else al final, que se ejecutaría si ninguna de las condiciones anteriores es verdadera (la opción final)."
      ],
      "metadata": {
        "id": "MI1yZs1eExGO"
      }
    },
    {
      "cell_type": "code",
      "source": [
        "\n",
        "a = True\n",
        "b = True\n",
        "\n",
        "if a:\n",
        "  print(\"Condition 1 is true.\\n\")\n",
        "elif b:\n",
        "  print(\"Condition 2 is true.\\n\")\n",
        "else:\n",
        "  print(\"Both conditions are false.\\n\")"
      ],
      "metadata": {
        "colab": {
          "base_uri": "https://localhost:8080/"
        },
        "id": "FghUVGjVFRZM",
        "outputId": "78cb80cf-e818-445e-9afb-e557c8f1ddda"
      },
      "execution_count": 7,
      "outputs": [
        {
          "output_type": "stream",
          "name": "stdout",
          "text": [
            "Condition 1 is true.\n",
            "\n"
          ]
        }
      ]
    },
    {
      "cell_type": "code",
      "source": [
        "\n",
        "a = False\n",
        "b = False\n",
        "\n",
        "if a:\n",
        "  print(\"Condition 1 is true.\\n\")\n",
        "elif b:\n",
        "  print(\"Condition 2 is true.\\n\")\n",
        "else:\n",
        "  print(\"Both conditions are false.\\n\")"
      ],
      "metadata": {
        "colab": {
          "base_uri": "https://localhost:8080/"
        },
        "id": "A5QLFL4VFZsQ",
        "outputId": "7fe73a60-6f3b-43b6-b232-300f1e1bd837"
      },
      "execution_count": null,
      "outputs": [
        {
          "output_type": "stream",
          "name": "stdout",
          "text": [
            "Both conditions are false.\n",
            "\n"
          ]
        }
      ]
    },
    {
      "cell_type": "markdown",
      "source": [
        "Similarly, we can directly nest the if statements if we only want the subsequent condition to be evaluated if the previous one is true."
      ],
      "metadata": {
        "id": "P9HDhYXtKX7K"
      }
    },
    {
      "cell_type": "code",
      "source": [
        "a = True\n",
        "b = True\n",
        "\n",
        "if a:\n",
        "  if b:\n",
        "    print(\"a and b are true.\\n\")#double tab is required here!\n",
        "  else:\n",
        "    print(\"a is true but b is false.\\n\")\n",
        "else:\n",
        "  print(\"a is not true.\\n\")"
      ],
      "metadata": {
        "colab": {
          "base_uri": "https://localhost:8080/"
        },
        "id": "AuBe0qhdKXU7",
        "outputId": "6dec71cd-7fc8-4b08-8a92-23b04b0ae620"
      },
      "execution_count": null,
      "outputs": [
        {
          "output_type": "stream",
          "name": "stdout",
          "text": [
            "a and b are true.\n",
            "\n"
          ]
        }
      ]
    },
    {
      "cell_type": "code",
      "source": [
        "a = False\n",
        "b = False\n",
        "\n",
        "if a:\n",
        "  if b:\n",
        "    print(\"a and b are true.\\n\")\n",
        "  else:\n",
        "    print(\"a is true but b is false.\\n\")\n",
        "else:\n",
        "  print(\"a is not true.\\n\")"
      ],
      "metadata": {
        "colab": {
          "base_uri": "https://localhost:8080/"
        },
        "id": "oxH42MDxLIvk",
        "outputId": "d1229715-dde7-4d78-8fd9-c497ed149e7c"
      },
      "execution_count": null,
      "outputs": [
        {
          "output_type": "stream",
          "name": "stdout",
          "text": [
            "a is not true.\n",
            "\n"
          ]
        }
      ]
    },
    {
      "cell_type": "code",
      "source": [
        "a = False\n",
        "b = False\n",
        "\n",
        "if a:\n",
        "  if b:\n",
        "    print(\"a and b are true.\\n\")\n",
        "  else:\n",
        "    print(\"a is true but b is false.\\n\")\n",
        "else:\n",
        "  print(\"a is not true.\\n\")"
      ],
      "metadata": {
        "colab": {
          "base_uri": "https://localhost:8080/"
        },
        "id": "CFjjpC7ILL7D",
        "outputId": "19453a40-67e3-434a-f20d-ecdea62ac288"
      },
      "execution_count": null,
      "outputs": [
        {
          "output_type": "stream",
          "name": "stdout",
          "text": [
            "a is not true.\n",
            "\n"
          ]
        }
      ]
    },
    {
      "cell_type": "code",
      "source": [
        "\n",
        "a = False\n",
        "b = True\n",
        "\n",
        "if a:\n",
        "  if b:\n",
        "    print(\"a and b are true.\\n\")\n",
        "  else:\n",
        "    print(\"a is true but b is false.\\n\")\n",
        "else:\n",
        "  print(\"a is not true.\\n\")"
      ],
      "metadata": {
        "colab": {
          "base_uri": "https://localhost:8080/"
        },
        "id": "2_WzD4IILR6D",
        "outputId": "185e3e72-0885-4840-ea6d-c120d19b5b4a"
      },
      "execution_count": null,
      "outputs": [
        {
          "output_type": "stream",
          "name": "stdout",
          "text": [
            "a is not true.\n",
            "\n"
          ]
        }
      ]
    },
    {
      "cell_type": "markdown",
      "source": [
        "In other languages, the exclamation mark (!) can be used to evaluate the logical negation of a variable.\n",
        "\n",
        "In Python, we can use the keyword \"not\" before the variable to achieve the same effect."
      ],
      "metadata": {
        "id": "iVTrietnGmkB"
      }
    },
    {
      "cell_type": "code",
      "source": [
        "not True"
      ],
      "metadata": {
        "colab": {
          "base_uri": "https://localhost:8080/"
        },
        "id": "d9EjgT7nG76A",
        "outputId": "46f613b0-83d6-4d60-8c99-f73615b6ea5a"
      },
      "execution_count": null,
      "outputs": [
        {
          "output_type": "execute_result",
          "data": {
            "text/plain": [
              "False"
            ]
          },
          "metadata": {},
          "execution_count": 16
        }
      ]
    },
    {
      "cell_type": "code",
      "source": [
        "not False"
      ],
      "metadata": {
        "colab": {
          "base_uri": "https://localhost:8080/"
        },
        "id": "SuMYbT_JG9pK",
        "outputId": "4301fa3f-a46a-4f48-db22-32c548ecd475"
      },
      "execution_count": null,
      "outputs": [
        {
          "output_type": "execute_result",
          "data": {
            "text/plain": [
              "True"
            ]
          },
          "metadata": {},
          "execution_count": 17
        }
      ]
    },
    {
      "cell_type": "code",
      "source": [
        "not 8"
      ],
      "metadata": {
        "colab": {
          "base_uri": "https://localhost:8080/"
        },
        "id": "dHpVP55rG_Rl",
        "outputId": "bea3200c-f8de-4ced-96e5-0cd81f79d793"
      },
      "execution_count": null,
      "outputs": [
        {
          "output_type": "execute_result",
          "data": {
            "text/plain": [
              "False"
            ]
          },
          "metadata": {},
          "execution_count": 18
        }
      ]
    },
    {
      "cell_type": "code",
      "source": [
        "not 0"
      ],
      "metadata": {
        "colab": {
          "base_uri": "https://localhost:8080/"
        },
        "id": "x3dpCJ2jHBpH",
        "outputId": "73f5f473-fe85-4cec-d3cb-ea2b01cc60b5"
      },
      "execution_count": null,
      "outputs": [
        {
          "output_type": "execute_result",
          "data": {
            "text/plain": [
              "True"
            ]
          },
          "metadata": {},
          "execution_count": 19
        }
      ]
    },
    {
      "cell_type": "code",
      "source": [
        "a = True\n",
        "b = True\n",
        "\n",
        "if not a:\n",
        "  print(\"Condition 1 is true.\\n\")\n",
        "elif b:\n",
        "  print(\"Condition 2 is true.\\n\")\n",
        "else:\n",
        "  print(\"Both conditions are false.\\n\")"
      ],
      "metadata": {
        "colab": {
          "base_uri": "https://localhost:8080/"
        },
        "id": "26Fu_3KhG0bC",
        "outputId": "c8ba582a-d5e6-4247-8816-bf453ce84bcf"
      },
      "execution_count": null,
      "outputs": [
        {
          "output_type": "stream",
          "name": "stdout",
          "text": [
            "Condition 2 is true.\n",
            "\n"
          ]
        }
      ]
    },
    {
      "cell_type": "markdown",
      "source": [
        "On the other hand, we don't always need to evaluate conditions separately but create logical expressions with them. For this purpose, we have the following operators:\n",
        "\n",
        ". Logical operators: \"or\", \"and\"\n",
        "\n",
        ". Comparison operators: <, >, <=, >=, ==, !="
      ],
      "metadata": {
        "id": "jMy5rePdFjNg"
      }
    },
    {
      "cell_type": "code",
      "source": [
        "a = False\n",
        "b = False\n",
        "\n",
        "if a or b:\n",
        "  print(\"At least one condition is true.\\n\")\n",
        "else:\n",
        "  print(\"It's not any value.\")"
      ],
      "metadata": {
        "colab": {
          "base_uri": "https://localhost:8080/"
        },
        "id": "wnuvPyZBHVgC",
        "outputId": "d9ae5fa1-c1bc-4c66-ca75-332c803c29a4"
      },
      "execution_count": null,
      "outputs": [
        {
          "output_type": "stream",
          "name": "stdout",
          "text": [
            "It's not any value.\n"
          ]
        }
      ]
    },
    {
      "cell_type": "code",
      "source": [
        "a = 3\n",
        "b = 4\n",
        "\n",
        "if a != b:\n",
        "  print(\"The numbers are different.\\n\")"
      ],
      "metadata": {
        "colab": {
          "base_uri": "https://localhost:8080/"
        },
        "id": "xPraa9wBHfR8",
        "outputId": "9a042a8a-e9f7-499a-c968-65f89f684ec1"
      },
      "execution_count": null,
      "outputs": [
        {
          "output_type": "stream",
          "name": "stdout",
          "text": [
            "The numbers are different.\n",
            "\n"
          ]
        }
      ]
    },
    {
      "cell_type": "code",
      "source": [
        "a = 4\n",
        "b = 4\n",
        "\n",
        "if a == b:\n",
        "  print(\"The numbers are equal.\\n\")"
      ],
      "metadata": {
        "colab": {
          "base_uri": "https://localhost:8080/"
        },
        "id": "agG1ggz0IBuz",
        "outputId": "28463dd0-ce3e-4f27-c824-017ec05988be"
      },
      "execution_count": null,
      "outputs": [
        {
          "output_type": "stream",
          "name": "stdout",
          "text": [
            "The numbers are equal.\n",
            "\n"
          ]
        }
      ]
    },
    {
      "cell_type": "code",
      "source": [
        "a = 1\n",
        "b = 2\n",
        "c = 3\n",
        "\n",
        "if a < b < c:\n",
        "  print(\"The order is ascending.\\n\")"
      ],
      "metadata": {
        "id": "2WlutQYmIIe3",
        "colab": {
          "base_uri": "https://localhost:8080/"
        },
        "outputId": "50cddef0-57ad-462d-ff66-902ba9567c7b"
      },
      "execution_count": null,
      "outputs": [
        {
          "output_type": "stream",
          "name": "stdout",
          "text": [
            "The order is ascending.\n",
            "\n"
          ]
        }
      ]
    },
    {
      "cell_type": "code",
      "source": [
        "a = 3\n",
        "b = 2\n",
        "c = 3\n",
        "\n",
        "if a < b < c:\n",
        "  print(\"The order is ascending.\\n\")\n",
        "else:\n",
        "  print(a + b + c)\n"
      ],
      "metadata": {
        "colab": {
          "base_uri": "https://localhost:8080/"
        },
        "id": "b3sQXrU0IThJ",
        "outputId": "2c97f0d8-d3db-4d3a-bb77-78e2a63cb8e7"
      },
      "execution_count": null,
      "outputs": [
        {
          "output_type": "stream",
          "name": "stdout",
          "text": [
            "8\n"
          ]
        }
      ]
    },
    {
      "cell_type": "markdown",
      "source": [
        "Cuando se realizan múltiples comparaciones encadenadas como las anteriores, Python siempre las evalúa de izquierda a derecha en pares."
      ],
      "metadata": {
        "id": "AC2xrm2AIcic"
      }
    },
    {
      "cell_type": "markdown",
      "source": [
        "En aplicaciones más avanzadas, utilizando listas, tuplas, diccionarios o clases, existen otras formas de expresar condiciones que son útiles para abordar problemas más complejos.\n",
        "\n",
        "Un ejemplo rápido, no tan complejo, es el uso de la palabra clave \"in\", que se utiliza para cadenas o matrices de números."
      ],
      "metadata": {
        "id": "mAsFtIP5IltC"
      }
    },
    {
      "cell_type": "code",
      "source": [
        "a = [1, 2, 3]\n",
        "b = 2\n",
        "\n",
        "if b in a:\n",
        "  print(\"a contains the value of b.\\n\")\n",
        "else:\n",
        "  print(\"a does not contain the value of b.\\n\")"
      ],
      "metadata": {
        "colab": {
          "base_uri": "https://localhost:8080/"
        },
        "id": "yrBhgY0mI9Ci",
        "outputId": "b29b5810-3203-45f9-d0e9-6e130c88ee18"
      },
      "execution_count": null,
      "outputs": [
        {
          "output_type": "stream",
          "name": "stdout",
          "text": [
            "a contains the value of b.\n",
            "\n"
          ]
        }
      ]
    },
    {
      "cell_type": "code",
      "source": [
        "a = [1, 2, 3]\n",
        "b = 4\n",
        "\n",
        "if b in a:\n",
        "  print(\"a contains the value of b.\\n\")\n",
        "else:\n",
        "  print(\"a does not contain the value of b.\\n\")"
      ],
      "metadata": {
        "colab": {
          "base_uri": "https://localhost:8080/"
        },
        "id": "GlFDLbP-JzM0",
        "outputId": "85bd4d57-9fcf-4579-b659-2783a64ab292"
      },
      "execution_count": null,
      "outputs": [
        {
          "output_type": "stream",
          "name": "stdout",
          "text": [
            "a does not contain the value of b.\n",
            "\n"
          ]
        }
      ]
    },
    {
      "cell_type": "code",
      "source": [
        "if(\"Hi\" in \"this is a good example\"):\n",
        "  print(\"Word found.\\n\")\n",
        "else:\n",
        "  print(\"Word not found\")"
      ],
      "metadata": {
        "colab": {
          "base_uri": "https://localhost:8080/"
        },
        "id": "mvgyY8s2J2jN",
        "outputId": "f33de744-f8c0-4e5d-f1ac-acaa64e3a536"
      },
      "execution_count": null,
      "outputs": [
        {
          "output_type": "stream",
          "name": "stdout",
          "text": [
            "Word not found\n"
          ]
        }
      ]
    },
    {
      "cell_type": "markdown",
      "source": [
        "## Ejercicios:\n",
        "\n",
        "1. Para poder pagar un determinado impuesto es necesario ser mayor de 16 años y tener unos ingresos mensuales iguales o superiores a 1.000€. Escriba un programa que pregunte al usuario su edad e ingresos mensuales y muestre si el usuario tiene que pagar el impuesto o no.\n",
        "\n",
        "\n",
        "2. La pizzería Bella Napoli ofrece pizzas vegetarianas y no vegetarianas a sus clientes. Los ingredientes para cada tipo de pizza son los siguientes:\n",
        "\n",
        "Ingredientes vegetarianos: Pimientos morrones y tofu.\n",
        "\n",
        "Ingredientes no vegetarianos: pepperoni, jamón y salmón.\n",
        "\n",
        "Escribe un programa que pregunte al usuario si quiere una pizza vegetariana o no y, en función de su respuesta, muestre un menú con los ingredientes disponibles para que elija. Sólo se puede elegir un ingrediente adicional además de la mozzarella y el tomate, que están incluidos en todas las pizzas. Finalmente, el programa deberá mostrar si la pizza elegida es vegetariana o no, junto con todos los ingredientes que contiene."
      ],
      "metadata": {
        "id": "fO1RHJGAiIp2"
      }
    },
    {
      "cell_type": "markdown",
      "source": [
        "Developed by:\n",
        "\n",
        "- Brian Patino Agudelo - bpatinoa@unal.edu.co\n",
        "\n",
        "- Andrés Marino Álvarez Meza - amalvarezme@unal.edu.co\n",
        "\n",
        "- César Germán Castellanos Domínguez - cgcastellanosd@unal.edu.co"
      ],
      "metadata": {
        "id": "QQg2r04O174w"
      }
    },
    {
      "cell_type": "markdown",
      "source": [
        "SOLUCION EJERCICIO 1 Para poder pagar un determinado impuesto es necesario ser mayor de 16 años y tener unos ingresos mensuales iguales o superiores a 1.000€. Escriba un programa que pregunte al usuario su edad e ingresos mensuales y muestre si el usuario tiene que pagar el impuesto o no.\n"
      ],
      "metadata": {
        "id": "CM3muDk6vX3j"
      }
    },
    {
      "cell_type": "code",
      "source": [
        "a = int(input(\"INGRESE SU EDAD\"))\n",
        "b = float(input(\"INGRESE SUS INGRESOS MENSUALES EN EUROS\"))\n",
        "\n",
        "if a > 16 and b > 1000 :\n",
        "  print(\"USTED DEBE PAGAR EL IMPUESTO\")\n",
        "\n",
        "else:\n",
        "  print(\"USTED NO DEBE PAGAR ESTE IMPUESTO\")"
      ],
      "metadata": {
        "id": "KIWL9EGb7SIR",
        "colab": {
          "base_uri": "https://localhost:8080/"
        },
        "outputId": "473140c5-9aa0-440f-9c2c-7b1cbd08ed4a"
      },
      "execution_count": 13,
      "outputs": [
        {
          "output_type": "stream",
          "name": "stdout",
          "text": [
            "INGRESE SU EDAD18\n",
            "INGRESE SUS INGRESOS MENSUALES EN EUROS2000\n",
            "USTED DEBE PAGAR EL IMPUESTO\n"
          ]
        }
      ]
    },
    {
      "cell_type": "markdown",
      "source": [
        "SOLUCION EJERCICIO 2 La pizzería Bella Napoli ofrece pizzas vegetarianas y no vegetarianas a sus clientes. Los ingredientes para cada tipo de pizza son los siguientes:\n",
        "Ingredientes vegetarianos: Pimientos morrones y tofu.\n",
        "\n",
        "Ingredientes no vegetarianos: pepperoni, jamón y salmón.\n",
        "\n",
        "Escribe un programa que pregunte al usuario si quiere una pizza vegetariana o no y, en función de su respuesta, muestre un menú con los ingredientes disponibles para que elija. Sólo se puede elegir un ingrediente adicional además de la mozzarella y el tomate, que están incluidos en todas las pizzas. Finalmente, el programa deberá mostrar si la pizza elegida es vegetariana o no, junto con todos los ingredientes que contiene."
      ],
      "metadata": {
        "id": "8nIq3XD0wiBf"
      }
    },
    {
      "cell_type": "code",
      "source": [
        "a = input(\"QUIERE UNA PIZZA VEGETARIANA RESPONDA SI O NO\").lower()\n",
        "\n",
        "if a == \"no\" :\n",
        "  b = input(\"ELIJA UNO DE LOS SIGUIENTES INGREDIENTES PEPPERONI JAMON SALMON \").lower()\n",
        "\n",
        "else:\n",
        "  b = input(\"ELIJA UNO DE LOS SIGUIENTES INGREDIENTES PIMIENTOS MORRONES TOFU\").lower()\n",
        "\n",
        "print(\"su pizza\" + a + \"vegetariana y contiene los siguientes ingredientes: Mozarrella, Tomate\" + b)"
      ],
      "metadata": {
        "colab": {
          "base_uri": "https://localhost:8080/"
        },
        "id": "KFqBWclowmGD",
        "outputId": "1b590953-1278-4996-db8d-8288f1537ab4"
      },
      "execution_count": 35,
      "outputs": [
        {
          "output_type": "stream",
          "name": "stdout",
          "text": [
            "QUIERE UNA PIZZA VEGETARIANA RESPONDA SI O NOsi\n",
            "ELIJA UNO DE LOS SIGUIENTES INGREDIENTES A.PIMIENTOS MORRONES B.TOFUpimientos morrones\n",
            "su pizzasivegetariana y contiene los siguientes ingredientes: Mozarrella, Tomatepimientos morrones\n"
          ]
        }
      ]
    },
    {
      "cell_type": "code",
      "source": [],
      "metadata": {
        "id": "HyjqDzN05sjs"
      },
      "execution_count": null,
      "outputs": []
    }
  ]
}