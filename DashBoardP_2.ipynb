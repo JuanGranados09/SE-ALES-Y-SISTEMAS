{
  "cells": [
    {
      "cell_type": "markdown",
      "metadata": {
        "id": "view-in-github",
        "colab_type": "text"
      },
      "source": [
        "<a href=\"https://colab.research.google.com/github/JuanGranados09/SE-ALES-Y-SISTEMAS/blob/main/DashBoardP_2.ipynb\" target=\"_parent\"><img src=\"https://colab.research.google.com/assets/colab-badge.svg\" alt=\"Open In Colab\"/></a>"
      ]
    },
    {
      "cell_type": "code",
      "source": [
        "%%writefile DashBoardP_2.py"
      ],
      "metadata": {
        "colab": {
          "base_uri": "https://localhost:8080/"
        },
        "id": "31clQJoaqqym",
        "outputId": "fa797877-c81c-4eb7-d375-dd5043c6d271"
      },
      "execution_count": 1,
      "outputs": [
        {
          "output_type": "stream",
          "name": "stdout",
          "text": [
            "Writing DashBoardP_2.py\n"
          ]
        }
      ]
    },
    {
      "cell_type": "code",
      "source": [
        "!pip install streamlit -q\n",
        "!pip install pyngrok"
      ],
      "metadata": {
        "colab": {
          "base_uri": "https://localhost:8080/"
        },
        "id": "X964jh27cNDv",
        "outputId": "8a099a6c-6fb9-4a6f-9213-ecea7fdc2791"
      },
      "execution_count": 2,
      "outputs": [
        {
          "output_type": "stream",
          "name": "stdout",
          "text": [
            "\u001b[2K   \u001b[90m━━━━━━━━━━━━━━━━━━━━━━━━━━━━━━━━━━━━━━━━\u001b[0m \u001b[32m8.7/8.7 MB\u001b[0m \u001b[31m33.2 MB/s\u001b[0m eta \u001b[36m0:00:00\u001b[0m\n",
            "\u001b[2K   \u001b[90m━━━━━━━━━━━━━━━━━━━━━━━━━━━━━━━━━━━━━━━━\u001b[0m \u001b[32m207.3/207.3 kB\u001b[0m \u001b[31m3.9 MB/s\u001b[0m eta \u001b[36m0:00:00\u001b[0m\n",
            "\u001b[2K   \u001b[90m━━━━━━━━━━━━━━━━━━━━━━━━━━━━━━━━━━━━━━━━\u001b[0m \u001b[32m6.9/6.9 MB\u001b[0m \u001b[31m26.7 MB/s\u001b[0m eta \u001b[36m0:00:00\u001b[0m\n",
            "\u001b[2K   \u001b[90m━━━━━━━━━━━━━━━━━━━━━━━━━━━━━━━━━━━━━━━━\u001b[0m \u001b[32m82.9/82.9 kB\u001b[0m \u001b[31m2.6 MB/s\u001b[0m eta \u001b[36m0:00:00\u001b[0m\n",
            "\u001b[2K   \u001b[90m━━━━━━━━━━━━━━━━━━━━━━━━━━━━━━━━━━━━━━━━\u001b[0m \u001b[32m62.7/62.7 kB\u001b[0m \u001b[31m1.2 MB/s\u001b[0m eta \u001b[36m0:00:00\u001b[0m\n",
            "\u001b[?25hCollecting pyngrok\n",
            "  Downloading pyngrok-7.2.0-py3-none-any.whl.metadata (7.4 kB)\n",
            "Requirement already satisfied: PyYAML>=5.1 in /usr/local/lib/python3.10/dist-packages (from pyngrok) (6.0.2)\n",
            "Downloading pyngrok-7.2.0-py3-none-any.whl (22 kB)\n",
            "Installing collected packages: pyngrok\n",
            "Successfully installed pyngrok-7.2.0\n"
          ]
        }
      ]
    },
    {
      "cell_type": "code",
      "source": [
        "!python3 -m pip install --force-reinstall https://github.com/yt-dlp/yt-dlp/archive/master.tar.gz -q\n",
        "!pip install soundfile -q"
      ],
      "metadata": {
        "colab": {
          "base_uri": "https://localhost:8080/"
        },
        "id": "hf4yNgLFdkyX",
        "outputId": "7265158c-6a65-424f-ddaa-edee29de6904"
      },
      "execution_count": 3,
      "outputs": [
        {
          "output_type": "stream",
          "name": "stdout",
          "text": [
            "\u001b[2K     \u001b[90m━━━━━━━━━━━━━━━━━━━━━━━━━━━━━━━━━━━━━━━━\u001b[0m \u001b[32m2.7/2.7 MB\u001b[0m \u001b[31m10.7 MB/s\u001b[0m eta \u001b[36m0:00:00\u001b[0m\n",
            "\u001b[?25h  Installing build dependencies ... \u001b[?25l\u001b[?25hdone\n",
            "  Getting requirements to build wheel ... \u001b[?25l\u001b[?25hdone\n",
            "  Preparing metadata (pyproject.toml) ... \u001b[?25l\u001b[?25hdone\n",
            "\u001b[2K   \u001b[90m━━━━━━━━━━━━━━━━━━━━━━━━━━━━━━━━━━━━━━━━\u001b[0m \u001b[32m164.1/164.1 kB\u001b[0m \u001b[31m3.2 MB/s\u001b[0m eta \u001b[36m0:00:00\u001b[0m\n",
            "\u001b[2K   \u001b[90m━━━━━━━━━━━━━━━━━━━━━━━━━━━━━━━━━━━━━━━━\u001b[0m \u001b[32m3.0/3.0 MB\u001b[0m \u001b[31m19.3 MB/s\u001b[0m eta \u001b[36m0:00:00\u001b[0m\n",
            "\u001b[2K   \u001b[90m━━━━━━━━━━━━━━━━━━━━━━━━━━━━━━━━━━━━━━━━\u001b[0m \u001b[32m194.4/194.4 kB\u001b[0m \u001b[31m10.5 MB/s\u001b[0m eta \u001b[36m0:00:00\u001b[0m\n",
            "\u001b[2K   \u001b[90m━━━━━━━━━━━━━━━━━━━━━━━━━━━━━━━━━━━━━━━━\u001b[0m \u001b[32m2.1/2.1 MB\u001b[0m \u001b[31m17.1 MB/s\u001b[0m eta \u001b[36m0:00:00\u001b[0m\n",
            "\u001b[?25h  Building wheel for yt-dlp (pyproject.toml) ... \u001b[?25l\u001b[?25hdone\n"
          ]
        }
      ]
    },
    {
      "cell_type": "code",
      "source": [
        "!mkdir pages"
      ],
      "metadata": {
        "id": "RIv3pUBydwrg"
      },
      "execution_count": 4,
      "outputs": []
    },
    {
      "cell_type": "code",
      "source": [
        "%%writefile pages/1__🙋‍♂️_Parcial_2.py\n",
        "\n",
        "import streamlit as st\n",
        "\n",
        "st.set_page_config(\n",
        "    page_title=\"Parcial #2\",page_icon=\"👋\")\n",
        "\n",
        "st.write(\"# Dashboard del Parcial #2! \")\n",
        "\n",
        "st.sidebar.success(\"Seleccionar el punto del parcial .\")\n",
        "\n",
        "st.markdown(\n",
        "    \"\"\"\n",
        "    La parte teórica de cada punto esta :\n",
        "    [Parcial 2 Escrito](https://github.com/JuanGranados09/SE-ALES-Y-SISTEMAS/blob/main/Parcial%202%20Escrito.pdf)\n",
        "    **👈 selecciona el tema que que quieras estudiar**\n",
        "\"\"\"\n",
        ")"
      ],
      "metadata": {
        "colab": {
          "base_uri": "https://localhost:8080/"
        },
        "id": "EGyBSjT1d2Af",
        "outputId": "84d13141-dc5e-49d9-f130-8706a03fdeac"
      },
      "execution_count": 5,
      "outputs": [
        {
          "output_type": "stream",
          "name": "stdout",
          "text": [
            "Writing pages/1__🙋‍♂️_Parcial_2.py\n"
          ]
        }
      ]
    },
    {
      "cell_type": "code",
      "source": [
        "%%writefile pages/2_🚀_Espectro_de_Fourier.py\n",
        "\n",
        "import streamlit as st\n",
        "import numpy as np\n",
        "import matplotlib.pyplot as plt\n",
        "\n",
        "# Configuración de la página de Streamlit\n",
        "st.set_page_config(page_title=\"Espectro de Fourier\",page_icon=\"🚀\")\n",
        "\n",
        "# Título y descripción del espectro de Fourier\n",
        "st.markdown(\"# Espectro de Fourier\")\n",
        "st.sidebar.header(\"Espectro de Fourier\")\n",
        "st.write(\n",
        "    \"\"\"Este apartado presenta el procedimiento y las gráficas correspondientes para analizar\n",
        "    el espectro de Fourier, incluyendo la magnitud, fase y error relativo.\"\"\"\n",
        ")\n",
        "\n",
        "# Enlace a la parte teórica\n",
        "st.markdown(\n",
        "    \"\"\"\n",
        "    La parte teórica de cada punto esta en:\n",
        "    [Parcial 2 Escrito](https://github.com/JuanGranados09/SE-ALES-Y-SISTEMAS/blob/main/Parcial%202%20Escrito.pdf)\n",
        "    \"\"\"\n",
        ")\n",
        "\n",
        "# Planteamiento inicial\n",
        "st.markdown(\"## Planteamiento inicial\")\n",
        "st.write(\n",
        "    \"\"\"Encuentre la expresión del espectro de Fourier (forma exponencial y trigonométrica) para la señal\n",
        "    $x(t) = \\lvert A \\sin(2 \\pi F_0 t) \\\\rvert ^2 $, con $t \\in [- \\\\frac{1}{2 F_0}, \\\\frac{1}{2 F_0}]$, donde\n",
        "    $A, F_0 \\in \\mathbb{R}^+$.\"\"\"\n",
        ")\n",
        "\n",
        "# Parámetros de la señal\n",
        "A = 1  # Amplitud\n",
        "Fo = 100  # Frecuencia inicial en Hz\n",
        "\n",
        "# Intervalo de tiempo\n",
        "ti = -1/(2 * Fo)\n",
        "tf = 1/(2 * Fo)\n",
        "T = tf - ti  # Duración del período\n",
        "\n",
        "# Frecuencia angular y fundamental\n",
        "wo = 2 * np.pi / T\n",
        "Fo = wo / (2 * np.pi)\n",
        "\n",
        "# Mostrar cálculos\n",
        "st.write(f'Duración del período T = {T:.4f}')\n",
        "st.write(f'Frecuencia angular ω₀ = {wo:.4f}')\n",
        "st.write(f'Frecuencia fundamental F₀ = {Fo:.4f}')\n",
        "\n",
        "# Frecuencia de muestreo según el criterio de Nyquist\n",
        "Fs = 30 * Fo\n",
        "tv = np.arange(ti, tf, 1/Fs)  # Vector de tiempo\n",
        "\n",
        "# Generación de la señal\n",
        "xo = (abs(A * np.sin(wo * tv))) ** 2\n",
        "\n",
        "# Graficar la señal de entrada\n",
        "plt.figure(figsize=(10, 5))\n",
        "plt.plot(tv, xo)\n",
        "plt.xlabel('Tiempo [s]')\n",
        "plt.ylabel('$x(t)$')\n",
        "plt.title('Señal de Entrada')\n",
        "plt.grid()\n",
        "st.pyplot(plt)\n",
        "\n",
        "# Simulación del espectro\n",
        "N = 50  # Número de armónicos\n",
        "phin = np.zeros((len(tv), 2 * N + 1), dtype=np.complex_)\n",
        "\n",
        "# Crear bases de Fourier\n",
        "for n in range(-N, N + 1):\n",
        "    phin[:, n + N] = np.exp(1j * n * wo * tv)\n",
        "\n",
        "# Calcular espectro\n",
        "Cn = np.zeros(2 * N + 1, dtype=np.complex_)\n",
        "Cn[N] = (A ** 2) / 2\n",
        "Cn[N - 2] = -(A ** 2) / 4\n",
        "Cn[N + 2] = -(A ** 2) / 4\n",
        "\n",
        "# Graficar el espectro\n",
        "fig, axs = plt.subplots(2, 2, figsize=(10, 10))\n",
        "\n",
        "# Magnitud\n",
        "axs[0, 0].stem(np.arange(-N, N + 1), np.real(Cn), 'r')\n",
        "axs[0, 0].set_title(r'$Re\\{C_n\\}$')\n",
        "axs[0, 0].set_xlabel(r'$n$')\n",
        "axs[0, 0].set_ylabel('Magnitud')\n",
        "axs[0, 0].grid()\n",
        "\n",
        "# Fase\n",
        "axs[0, 1].stem(np.arange(-N, N + 1), np.imag(Cn), 'b')\n",
        "axs[0, 1].set_title(r'$Im\\{C_n\\}$')\n",
        "axs[0, 1].set_xlabel(r'$n$')\n",
        "axs[0, 1].set_ylabel('Magnitud')\n",
        "axs[0, 1].grid()\n",
        "\n",
        "# Magnitud en dB\n",
        "axs[1, 0].stem(np.arange(-N, N + 1), 20 * np.log10(abs(Cn)), 'g')\n",
        "axs[1, 0].set_title(r'$|C_n| \\ [dB]$')\n",
        "axs[1, 0].set_xlabel(r'$n$')\n",
        "axs[1, 0].set_ylabel('Magnitud (dB)')\n",
        "axs[1, 0].grid()\n",
        "\n",
        "# Fase en radianes\n",
        "axs[1, 1].stem(np.arange(-N, N + 1), np.angle(Cn), 'm')\n",
        "axs[1, 1].set_title(r'$\\angle C_n$')\n",
        "axs[1, 1].set_xlabel(r'$n$')\n",
        "axs[1, 1].set_ylabel('Fase (radianes)')\n",
        "axs[1, 1].grid()\n",
        "\n",
        "plt.tight_layout()\n",
        "st.pyplot(fig)\n",
        "\n",
        "# Reconstrucción de la señal\n",
        "st.title('Reconstrucción de la señal y Error relativo')\n",
        "Px = (3 * (A ** 4)) / 8  # Potencia de la señal\n",
        "\n",
        "# Slider para seleccionar armónicos\n",
        "n = st.slider(\"Selecciona el número de armónicos (n)\", 0, N, 1)\n",
        "\n",
        "# Crear figura para la reconstrucción\n",
        "fig, ax = plt.subplots(2, 3, figsize=(12, 5))\n",
        "\n",
        "# Función para actualizar gráficos\n",
        "def actualizar_graficos(n):\n",
        "    ax[0, 0].clear()\n",
        "    ax[0, 1].clear()\n",
        "    ax[0, 2].clear()\n",
        "    ax[1, 0].clear()\n",
        "    ax[1, 1].clear()\n",
        "    ax[1, 2].clear()\n",
        "\n",
        "    # Espectro\n",
        "    ind = np.arange(N - n, N + n + 1)\n",
        "    ax[0, 0].stem(np.arange(-N, N + 1), abs(Cn), 'b')\n",
        "    ax[0, 0].stem(np.arange(-N, N + 1)[ind], abs(Cn[ind]), 'r')\n",
        "    ax[0, 0].set_xlabel(r'$n$')\n",
        "    ax[0, 0].set_ylabel(r'$|C_n|$')\n",
        "\n",
        "    # Componentes espectrales\n",
        "    ce = (phin[:, ind]).dot(np.diag(Cn[ind]))\n",
        "    ax[0, 1].plot(np.real(ce))\n",
        "    ax[0, 1].set_xlabel('t[s]')\n",
        "    ax[0, 1].set_ylabel('$Re\\{c_n\\phi_n(t)\\}$')\n",
        "\n",
        "    ax[0, 2].plot(np.imag(ce))\n",
        "    ax[0, 2].set_xlabel('t[s]')\n",
        "    ax[0, 2].set_ylabel('$Im\\{c_n\\phi_n(t)\\}$')\n",
        "\n",
        "    # Reconstrucción\n",
        "    er = 1 - (np.sum(abs(Cn[ind]) ** 2) / Px)\n",
        "    xe = (phin[:, ind]).dot(Cn[ind])\n",
        "    et = xo - xe\n",
        "\n",
        "    ax[1, 1].plot(tv, xo, 'r', linewidth=4, label='$x(t)$')\n",
        "    ax[1, 1].plot(tv, xe, 'b', label='$x_e(t)$')\n",
        "    ax[1, 1].plot(tv, et, 'g', label='$e(t)$')\n",
        "    ax[1, 1].set_title(f'$n={n}. E_r$={100 * er:.2f}[%%]')\n",
        "    ax[1, 1].set_xlabel('t[s]')\n",
        "    ax[1, 1].set_ylabel('x(t)')\n",
        "    ax[1, 1].legend(loc='center left', bbox_to_anchor=(1, 0.5))\n",
        "    ax[1, 0].axis('off')\n",
        "    ax[1, 2].axis('off')\n",
        "    plt.subplots_adjust(wspace=0.5, hspace=0.7)\n",
        "\n",
        "# Actualizar gráficos al cambiar el slider\n",
        "actualizar_graficos(n)\n",
        "\n",
        "# Mostrar gráficos en Streamlit\n",
        "st.pyplot(fig)\n"
      ],
      "metadata": {
        "colab": {
          "base_uri": "https://localhost:8080/"
        },
        "id": "AGl5DJToeQlR",
        "outputId": "56578231-b09f-4a1f-f70b-96a8c4c29ab4"
      },
      "execution_count": 6,
      "outputs": [
        {
          "output_type": "stream",
          "name": "stdout",
          "text": [
            "Writing pages/2_🚀_Espectro_de_Fourier.py\n"
          ]
        }
      ]
    },
    {
      "cell_type": "markdown",
      "source": [
        "MODULACION AM\n"
      ],
      "metadata": {
        "id": "6SuwPbndfwhd"
      }
    },
    {
      "cell_type": "code",
      "source": [
        "%%writefile pages/3_🧭_Modulación_AM.py\n",
        "\n",
        "import streamlit as st\n",
        "import numpy as np\n",
        "import matplotlib.pyplot as plt\n",
        "import soundfile as sf\n",
        "import subprocess\n",
        "\n",
        "st.set_page_config(page_title=\"Modulación AM\",page_icon=\"🧭\")\n",
        "\n",
        "# Título y descripción\n",
        "st.markdown(\"# Modulación AM\")\n",
        "st.sidebar.header(\"Modulación AM\")\n",
        "st.write(\"\"\"\n",
        "    Este apartado explica cómo realizar la modulación en amplitud (AM) de un mensaje, utilizando una canción de YouTube.\n",
        "    Se procesan 5 segundos del audio (desde el segundo 20 al 25), y puedes personalizar el índice de modulación y el enlace de YouTube.\n",
        "\"\"\")\n",
        "st.markdown(\"[Parcial 2 Escrito](https://github.com/JuanGranados09/SE-ALES-Y-SISTEMAS/blob/main/Parcial%202%20Escrito.pdf)\")\n",
        "\n",
        "# Función para descargar audio\n",
        "def download_audio_youtube(link):\n",
        "    try:\n",
        "        command = [\"yt-dlp\", \"--extract-audio\", \"--audio-format\", \"mp3\", \"-o\", \"audio.mp3\", \"--force-overwrites\", link]\n",
        "        result = subprocess.run(command, capture_output=True, text=True)\n",
        "        if result.returncode == 0:\n",
        "            st.success(\"Descarga de audio exitosa.\")\n",
        "        else:\n",
        "            st.error(f\"Error en la descarga: {result.stderr}\")\n",
        "    except Exception as e:\n",
        "        st.error(f\"Error: {e}\")\n",
        "\n",
        "# Función para convertir a WAV\n",
        "def convert_mp3_to_wav():\n",
        "    try:\n",
        "        command = [\"ffmpeg\", \"-y\", \"-i\", \"audio.mp3\", \"output.wav\"]\n",
        "        result = subprocess.run(command, capture_output=True, text=True)\n",
        "        if result.returncode == 0:\n",
        "            st.success(\"Conversión a WAV completada.\")\n",
        "        else:\n",
        "            st.error(f\"Error en la conversión: {result.stderr}\")\n",
        "    except Exception as e:\n",
        "        st.error(f\"Error: {e}\")\n",
        "\n",
        "# Obtener enlace de YouTube del usuario\n",
        "st.markdown(\"## Procesar Audio de YouTube\")\n",
        "youtube_link = st.text_input(\"Introduce el enlace de YouTube:\", \"https://www.youtube.com/watch?v=x2oUajHp8pg\")\n",
        "\n",
        "# Descargar y convertir el audio\n",
        "if youtube_link:\n",
        "    download_audio_youtube(youtube_link)\n",
        "    convert_mp3_to_wav()\n",
        "\n",
        "# Leer archivo WAV\n",
        "wav_file = \"output.wav\"\n",
        "audio_data, sample_rate = sf.read(wav_file)\n",
        "\n",
        "if audio_data.ndim > 1:\n",
        "    audio_data = np.mean(audio_data, axis=1)\n",
        "\n",
        "# Extraer 5 segundos de audio entre 20s y 25s\n",
        "start_idx, end_idx = int(20 * sample_rate), int(25 * sample_rate)\n",
        "audio_fragment = audio_data[start_idx:end_idx]\n",
        "\n",
        "# Reproducir fragmento\n",
        "with open('output.wav', 'rb') as file:\n",
        "    st.audio(file, format='audio/wav', start_time=20, end_time=25)\n",
        "\n",
        "# Parámetros de modulación\n",
        "Fc = 10000  # Frecuencia portadora\n",
        "Im = st.number_input(\"Ingrese el índice de modulación:\", 0.8)  # Índice de modulación\n",
        "Fs = 5 * Fc  # Frecuencia de muestreo\n",
        "\n",
        "# Tiempo y señal de mensaje\n",
        "t = np.arange(len(audio_fragment)) / sample_rate\n",
        "mensaje_normalizado = audio_fragment / np.max(np.abs(audio_fragment))\n",
        "\n",
        "# Amplitud de la portadora\n",
        "Ac = np.max(np.abs(mensaje_normalizado)) / Im\n",
        "portadora = Ac * np.sin(2 * np.pi * Fc * t)\n",
        "\n",
        "# Graficar portadora y mensaje\n",
        "st.markdown(\"### Portadora y mensaje\")\n",
        "fig, ax = plt.subplots()\n",
        "ax.plot(t, portadora, label='Portadora')\n",
        "ax.plot(t, mensaje_normalizado, label='Mensaje')\n",
        "ax.legend()\n",
        "ax.set_xlabel('Tiempo [s]')\n",
        "st.pyplot(fig)\n",
        "\n",
        "# Señal modulada\n",
        "st.markdown(\"### Señal modulada\")\n",
        "señal_modulada = (1 + mensaje_normalizado / Ac) * portadora\n",
        "fig, ax = plt.subplots()\n",
        "ax.plot(t, señal_modulada)\n",
        "ax.set_xlabel('Tiempo [s]')\n",
        "ax.set_ylabel('Señal Modulada AM')\n",
        "st.pyplot(fig)\n",
        "\n",
        "# Análisis en frecuencia\n",
        "st.markdown(\"### Espectro del mensaje, portadora y señal modulada\")\n",
        "espectro_portadora = np.fft.fft(portadora)\n",
        "espectro_mensaje = np.fft.fft(mensaje_normalizado)\n",
        "espectro_modulada = np.fft.fft(señal_modulada)\n",
        "\n",
        "frecuencia = np.fft.fftfreq(len(portadora), 1/Fs)\n",
        "\n",
        "fig, ax = plt.subplots()\n",
        "ax.plot(frecuencia, np.abs(espectro_modulada), label='Modulada')\n",
        "ax.plot(frecuencia, np.abs(espectro_mensaje), label='Mensaje')\n",
        "ax.plot(frecuencia, np.abs(espectro_portadora), label='Portadora')\n",
        "ax.legend()\n",
        "ax.set_xlabel('Frecuencia [Hz]')\n",
        "ax.set_ylabel('Magnitud |X(f)|')\n",
        "st.pyplot(fig)\n",
        "\n",
        "# Reproducción de audio\n",
        "st.markdown(\"## Fragmentos de audio\")\n",
        "st.markdown(\"### Señal de mensaje\")\n",
        "st.audio(audio_fragment, sample_rate=sample_rate)\n",
        "st.markdown(\"### Señal de portadora\")\n",
        "st.audio(portadora, sample_rate=sample_rate)\n",
        "st.markdown(\"### Señal modulada\")\n",
        "st.audio(señal_modulada, sample_rate=sample_rate)\n"
      ],
      "metadata": {
        "colab": {
          "base_uri": "https://localhost:8080/"
        },
        "id": "c6A7AlA_fwKT",
        "outputId": "72bff7d7-c360-4194-961e-3bbeede077d7"
      },
      "execution_count": 7,
      "outputs": [
        {
          "output_type": "stream",
          "name": "stdout",
          "text": [
            "Writing pages/3_🧭_Modulación_AM.py\n"
          ]
        }
      ]
    },
    {
      "cell_type": "markdown",
      "source": [
        "INGRESO DEL TOKEN"
      ],
      "metadata": {
        "id": "KJczdHW6iY5k"
      }
    },
    {
      "cell_type": "code",
      "source": [
        "!ls pages\n"
      ],
      "metadata": {
        "colab": {
          "base_uri": "https://localhost:8080/"
        },
        "id": "mEqW7LDzVf9e",
        "outputId": "d182bdf9-da6e-4ce3-9b81-bba801c1715d"
      },
      "execution_count": 9,
      "outputs": [
        {
          "output_type": "stream",
          "name": "stdout",
          "text": [
            "1__🙋‍♂️_Parcial_2.py  2_🚀_Espectro_de_Fourier.py  3_🧭_Modulación_AM.py\n"
          ]
        }
      ]
    },
    {
      "cell_type": "code",
      "source": [
        "import os\n",
        "from pyngrok import ngrok\n",
        "\n",
        "token = \"2mc458Z7GERWFoSucW6c7nx88NF_fUKSyguBJfKKwBVVGiWf\"\n",
        "\n",
        "# Establecer el token de autenticación\n",
        "ngrok.set_auth_token(token)\n",
        "\n",
        "# Ejecutar el servidor de Streamlit en un puerto específico\n",
        "os.system(\"nohup streamlit run DashBoardP_2.py --server.port 5020 &\")\n",
        "\n",
        "# Iniciar un túnel de ngrok para exponer el servidor de Streamlit\n",
        "tunnel = ngrok.connect(5020, \"http\", bind_tls=True)\n",
        "\n",
        "# Mostrar la URL del túnel de ngrok\n",
        "print(f' * URL: {tunnel.public_url}')\n",
        "\n"
      ],
      "metadata": {
        "colab": {
          "base_uri": "https://localhost:8080/"
        },
        "id": "4YGqEjvqjO6K",
        "outputId": "f2562d7d-3b62-4d07-9df6-883f88202929"
      },
      "execution_count": 8,
      "outputs": [
        {
          "output_type": "stream",
          "name": "stdout",
          "text": [
            " * URL: https://fbcf-34-73-147-11.ngrok-free.app\n"
          ]
        }
      ]
    }
  ],
  "metadata": {
    "colab": {
      "provenance": [],
      "include_colab_link": true
    },
    "kernelspec": {
      "display_name": "Python 3",
      "language": "python",
      "name": "python3"
    },
    "language_info": {
      "codemirror_mode": {
        "name": "ipython",
        "version": 3
      },
      "file_extension": ".py",
      "mimetype": "text/x-python",
      "name": "python",
      "nbconvert_exporter": "python",
      "pygments_lexer": "ipython3",
      "version": "3.7.1"
    }
  },
  "nbformat": 4,
  "nbformat_minor": 0
}